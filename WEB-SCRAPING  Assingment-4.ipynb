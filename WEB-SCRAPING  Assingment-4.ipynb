{
 "cells": [
  {
   "cell_type": "code",
   "execution_count": 129,
   "id": "9f238df7",
   "metadata": {},
   "outputs": [],
   "source": [
    "import selenium\n",
    "from selenium import webdriver\n",
    "from selenium.webdriver.common.by import By\n",
    "from selenium.webdriver.common.keys import Keys\n",
    "from selenium.webdriver.support.ui import WebDriverWait\n",
    "from selenium.common.exceptions import NoSuchElementException , StaleElementReferenceException\n",
    "from bs4 import BeautifulSoup\n",
    "import time\n",
    "import requests"
   ]
  },
  {
   "cell_type": "code",
   "execution_count": 130,
   "id": "496c400e",
   "metadata": {},
   "outputs": [],
   "source": [
    "import pandas as pd\n",
    "import numpy as np\n"
   ]
  },
  {
   "cell_type": "markdown",
   "id": "64eab0a0",
   "metadata": {},
   "source": [
    "# Q1. Scrape the details of most viewed videos on YouTube from Wikipedia. Url \n",
    "= https://en.wikipedia.org/wiki/List_of_most-viewed_YouTube_videos You need to find following details: "
   ]
  },
  {
   "cell_type": "code",
   "execution_count": 3,
   "id": "c349a8b1",
   "metadata": {},
   "outputs": [],
   "source": [
    "driver = webdriver.Chrome()\n",
    "driver.get('https://en.wikipedia.org/wiki/List_of_most-viewed_YouTube_videos')\n",
    "time.sleep(2)\n",
    "driver.maximize_window()"
   ]
  },
  {
   "cell_type": "code",
   "execution_count": 18,
   "id": "8c198f03",
   "metadata": {},
   "outputs": [],
   "source": [
    "Rank = [] \n",
    "Name = []\n",
    "Artist = []\n",
    "Upload_Date = [] \n",
    "Views = []\n",
    "\n",
    "name_tag = driver.find_elements(By.XPATH,'//table[@class=\"sortable wikitable sticky-header static-row-numbers col3center col4right jquery-tablesorter\"]/tbody/tr/td[1]')\n",
    "for i in name_tag:\n",
    "    try:\n",
    "        Name.append(i.text)\n",
    "    except NoSuchElementException:\n",
    "        Name.append('-')\n",
    "artist_tag = driver.find_elements(By.XPATH,'//table[@class=\"sortable wikitable sticky-header static-row-numbers col3center col4right jquery-tablesorter\"]/tbody/tr/td[2]')\n",
    "for i in artist_tag:\n",
    "    try:\n",
    "        Artist.append(i.text)\n",
    "    except NoSuchElementException:\n",
    "        Artist.append('-')\n",
    "date_tag = driver.find_elements(By.XPATH,'//table[@class=\"sortable wikitable sticky-header static-row-numbers col3center col4right jquery-tablesorter\"]/tbody/tr/td[4]')\n",
    "for i in date_tag:\n",
    "    try:\n",
    "        Upload_Date.append(i.text)\n",
    "    except NoSuchElementException:\n",
    "        Upload_Date.append('-')\n",
    "view_tag = driver.find_elements(By.XPATH,'//table[@class=\"sortable wikitable sticky-header static-row-numbers col3center col4right jquery-tablesorter\"]/tbody/tr/td[3]')\n",
    "for i in view_tag:\n",
    "    try:\n",
    "        Views.append(i.text)\n",
    "    except NoSuchElementException:\n",
    "        Views.append('-')"
   ]
  },
  {
   "cell_type": "code",
   "execution_count": 19,
   "id": "3454b64b",
   "metadata": {},
   "outputs": [
    {
     "name": "stdout",
     "output_type": "stream",
     "text": [
      "30 30 30 30\n"
     ]
    }
   ],
   "source": [
    "print(len(Name),len(Artist),len(Views),len(Upload_Date))"
   ]
  },
  {
   "cell_type": "code",
   "execution_count": null,
   "id": "d75060ca",
   "metadata": {},
   "outputs": [],
   "source": []
  },
  {
   "cell_type": "markdown",
   "id": "6a629ae7",
   "metadata": {},
   "source": [
    "## Q2. Scrape the details team India’s international fixtures from bcci.tv. \n",
    "#### Url = https://www.bcci.tv/. \n",
    "## You need to find following details: "
   ]
  },
  {
   "cell_type": "code",
   "execution_count": 12,
   "id": "a9b7c1be",
   "metadata": {},
   "outputs": [],
   "source": [
    "driver = webdriver.Chrome()\n",
    "driver.get('https://www.bcci.tv/')"
   ]
  },
  {
   "cell_type": "code",
   "execution_count": 13,
   "id": "531717e6",
   "metadata": {},
   "outputs": [],
   "source": [
    "driver.maximize_window()"
   ]
  },
  {
   "cell_type": "code",
   "execution_count": 14,
   "id": "3ee422ef",
   "metadata": {},
   "outputs": [],
   "source": [
    "fixtures = driver.find_element(By.XPATH,'//ul[@class=\"match-menu list-unstyled p-0 mb-0\"]/div/a[2]').click()"
   ]
  },
  {
   "cell_type": "code",
   "execution_count": 15,
   "id": "eaa0b7ae",
   "metadata": {},
   "outputs": [],
   "source": [
    "team = driver.find_element(By.XPATH,'//div[@class=\"col-lg-3 col-md-3 col-sm-12\"]/div[1]/div[1]').click()"
   ]
  },
  {
   "cell_type": "code",
   "execution_count": 16,
   "id": "0ae0a4f4",
   "metadata": {},
   "outputs": [],
   "source": [
    "team_search = driver.find_element(By.XPATH,'//div[@class=\"cSBList active\"]/div/input').send_keys('India')"
   ]
  },
  {
   "cell_type": "code",
   "execution_count": 17,
   "id": "7da2e33b",
   "metadata": {},
   "outputs": [],
   "source": [
    "searched_team = driver.find_element(By.XPATH,'//div[@class=\"cSBList active\"]/div[3]').click()"
   ]
  },
  {
   "cell_type": "code",
   "execution_count": 28,
   "id": "436879ca",
   "metadata": {},
   "outputs": [],
   "source": [
    "load_more = driver.find_element(By.XPATH,'//div[@class=\"col-lg-12 col-md-12 col-sm-12\"]/button')\n",
    "driver.execute_script(\"window.scrollTo\",load_more)\n",
    "load_more.click()"
   ]
  },
  {
   "cell_type": "code",
   "execution_count": 29,
   "id": "c9c74160",
   "metadata": {},
   "outputs": [
    {
     "name": "stdout",
     "output_type": "stream",
     "text": [
      "['SuperSport Park, Centurion', 'Newlands, Cape Town', 'Punjab Cricket Association IS Bindra Stadium, Mohali', 'Holkar Cricket Stadium, Indore', 'M Chinnaswamy Stadium, Bengaluru', 'Rajiv Gandhi International Stadium, Hyderabad', 'Dr YS Rajasekhara Reddy ACA-VDCA Cricket Stadium, Visakhapatnam', 'Saurashtra Cricket Association Stadium, Rajkot', 'JSCA International Stadium Complex, Ranchi', 'Himachal Pradesh Cricket Association Stadium, Dharamsala']\n",
      "['26 DECEMBER, 2023', '3 JANUARY, 2024', '11 JANUARY, 2024', '14 JANUARY, 2024', '17 JANUARY, 2024', '25 JANUARY, 2024', '2 FEBRUARY, 2024', '15 FEBRUARY, 2024', '23 FEBRUARY, 2024', '7 MARCH, 2024']\n"
     ]
    }
   ],
   "source": [
    "Series = [] \n",
    "Place = []\n",
    "Date = []\n",
    "Time = []\n",
    "\n",
    "\n",
    "\n",
    "series_tag = driver.find_elements(By.XPATH,'//div[@class=\"match-info\"]/h5')\n",
    "for i in series_tag:\n",
    "    Series.append(i.text)\n",
    "\n",
    "place_tag =driver.find_elements(By.XPATH,'//div[@class=\"match-place ng-scope\"]')\n",
    "for i in place_tag:\n",
    "    Place.append(i.text)\n",
    "print(Place)\n",
    "    \n",
    "date_tag = driver.find_elements(By.XPATH,'//div[@class=\"match-date-info\"]/div[1]')\n",
    "for i in date_tag:\n",
    "    Date.append(i.text)\n",
    "print(Date)\n",
    "\n",
    "time_tag = driver.find_elements(By.XPATH,'//div[@class=\"match-date-info\"]/div[2]')\n",
    "for i in time_tag:\n",
    "    Time.append(i.text)\n",
    "        "
   ]
  },
  {
   "cell_type": "code",
   "execution_count": 30,
   "id": "de1e11ca",
   "metadata": {},
   "outputs": [
    {
     "data": {
      "text/html": [
       "<div>\n",
       "<style scoped>\n",
       "    .dataframe tbody tr th:only-of-type {\n",
       "        vertical-align: middle;\n",
       "    }\n",
       "\n",
       "    .dataframe tbody tr th {\n",
       "        vertical-align: top;\n",
       "    }\n",
       "\n",
       "    .dataframe thead th {\n",
       "        text-align: right;\n",
       "    }\n",
       "</style>\n",
       "<table border=\"1\" class=\"dataframe\">\n",
       "  <thead>\n",
       "    <tr style=\"text-align: right;\">\n",
       "      <th></th>\n",
       "      <th>Series</th>\n",
       "      <th>Stadium</th>\n",
       "      <th>Date</th>\n",
       "      <th>Time</th>\n",
       "    </tr>\n",
       "  </thead>\n",
       "  <tbody>\n",
       "    <tr>\n",
       "      <th>0</th>\n",
       "      <td>INDIA TOUR OF SOUTH AFRICA 2023-24</td>\n",
       "      <td>SuperSport Park, Centurion</td>\n",
       "      <td>26 DECEMBER, 2023</td>\n",
       "      <td>1:30 PM IST</td>\n",
       "    </tr>\n",
       "    <tr>\n",
       "      <th>1</th>\n",
       "      <td>INDIA TOUR OF SOUTH AFRICA 2023-24</td>\n",
       "      <td>Newlands, Cape Town</td>\n",
       "      <td>3 JANUARY, 2024</td>\n",
       "      <td>1:30 PM IST</td>\n",
       "    </tr>\n",
       "    <tr>\n",
       "      <th>2</th>\n",
       "      <td>AFGHANISTAN TOUR OF INDIA 2023-24</td>\n",
       "      <td>Punjab Cricket Association IS Bindra Stadium, ...</td>\n",
       "      <td>11 JANUARY, 2024</td>\n",
       "      <td>7:00 PM IST</td>\n",
       "    </tr>\n",
       "    <tr>\n",
       "      <th>3</th>\n",
       "      <td>AFGHANISTAN TOUR OF INDIA 2023-24</td>\n",
       "      <td>Holkar Cricket Stadium, Indore</td>\n",
       "      <td>14 JANUARY, 2024</td>\n",
       "      <td>7:00 PM IST</td>\n",
       "    </tr>\n",
       "    <tr>\n",
       "      <th>4</th>\n",
       "      <td>AFGHANISTAN TOUR OF INDIA 2023-24</td>\n",
       "      <td>M Chinnaswamy Stadium, Bengaluru</td>\n",
       "      <td>17 JANUARY, 2024</td>\n",
       "      <td>7:00 PM IST</td>\n",
       "    </tr>\n",
       "    <tr>\n",
       "      <th>5</th>\n",
       "      <td>ENGLAND TOUR OF INDIA 2023-24</td>\n",
       "      <td>Rajiv Gandhi International Stadium, Hyderabad</td>\n",
       "      <td>25 JANUARY, 2024</td>\n",
       "      <td>9:30 AM IST</td>\n",
       "    </tr>\n",
       "    <tr>\n",
       "      <th>6</th>\n",
       "      <td>ENGLAND TOUR OF INDIA 2023-24</td>\n",
       "      <td>Dr YS Rajasekhara Reddy ACA-VDCA Cricket Stadi...</td>\n",
       "      <td>2 FEBRUARY, 2024</td>\n",
       "      <td>9:30 AM IST</td>\n",
       "    </tr>\n",
       "    <tr>\n",
       "      <th>7</th>\n",
       "      <td>ENGLAND TOUR OF INDIA 2023-24</td>\n",
       "      <td>Saurashtra Cricket Association Stadium, Rajkot</td>\n",
       "      <td>15 FEBRUARY, 2024</td>\n",
       "      <td>9:30 AM IST</td>\n",
       "    </tr>\n",
       "    <tr>\n",
       "      <th>8</th>\n",
       "      <td>ENGLAND TOUR OF INDIA 2023-24</td>\n",
       "      <td>JSCA International Stadium Complex, Ranchi</td>\n",
       "      <td>23 FEBRUARY, 2024</td>\n",
       "      <td>9:30 AM IST</td>\n",
       "    </tr>\n",
       "    <tr>\n",
       "      <th>9</th>\n",
       "      <td>ENGLAND TOUR OF INDIA 2023-24</td>\n",
       "      <td>Himachal Pradesh Cricket Association Stadium, ...</td>\n",
       "      <td>7 MARCH, 2024</td>\n",
       "      <td>9:30 AM IST</td>\n",
       "    </tr>\n",
       "  </tbody>\n",
       "</table>\n",
       "</div>"
      ],
      "text/plain": [
       "                               Series  \\\n",
       "0  INDIA TOUR OF SOUTH AFRICA 2023-24   \n",
       "1  INDIA TOUR OF SOUTH AFRICA 2023-24   \n",
       "2   AFGHANISTAN TOUR OF INDIA 2023-24   \n",
       "3   AFGHANISTAN TOUR OF INDIA 2023-24   \n",
       "4   AFGHANISTAN TOUR OF INDIA 2023-24   \n",
       "5       ENGLAND TOUR OF INDIA 2023-24   \n",
       "6       ENGLAND TOUR OF INDIA 2023-24   \n",
       "7       ENGLAND TOUR OF INDIA 2023-24   \n",
       "8       ENGLAND TOUR OF INDIA 2023-24   \n",
       "9       ENGLAND TOUR OF INDIA 2023-24   \n",
       "\n",
       "                                             Stadium               Date  \\\n",
       "0                         SuperSport Park, Centurion  26 DECEMBER, 2023   \n",
       "1                                Newlands, Cape Town    3 JANUARY, 2024   \n",
       "2  Punjab Cricket Association IS Bindra Stadium, ...   11 JANUARY, 2024   \n",
       "3                     Holkar Cricket Stadium, Indore   14 JANUARY, 2024   \n",
       "4                   M Chinnaswamy Stadium, Bengaluru   17 JANUARY, 2024   \n",
       "5      Rajiv Gandhi International Stadium, Hyderabad   25 JANUARY, 2024   \n",
       "6  Dr YS Rajasekhara Reddy ACA-VDCA Cricket Stadi...   2 FEBRUARY, 2024   \n",
       "7     Saurashtra Cricket Association Stadium, Rajkot  15 FEBRUARY, 2024   \n",
       "8         JSCA International Stadium Complex, Ranchi  23 FEBRUARY, 2024   \n",
       "9  Himachal Pradesh Cricket Association Stadium, ...      7 MARCH, 2024   \n",
       "\n",
       "          Time  \n",
       "0  1:30 PM IST  \n",
       "1  1:30 PM IST  \n",
       "2  7:00 PM IST  \n",
       "3  7:00 PM IST  \n",
       "4  7:00 PM IST  \n",
       "5  9:30 AM IST  \n",
       "6  9:30 AM IST  \n",
       "7  9:30 AM IST  \n",
       "8  9:30 AM IST  \n",
       "9  9:30 AM IST  "
      ]
     },
     "execution_count": 30,
     "metadata": {},
     "output_type": "execute_result"
    }
   ],
   "source": [
    "data = pd.DataFrame({\"Series\":Series,\"Stadium\":Place,\"Date\":Date,\"Time\":Time})\n",
    "data"
   ]
  },
  {
   "cell_type": "markdown",
   "id": "9e57b3fe",
   "metadata": {},
   "source": [
    "## 3. Scrape the details of State-wise GDP of India from statisticstime.com. \n",
    "#### Url = http://statisticstimes.com/ \n",
    "## You have to find following details:"
   ]
  },
  {
   "cell_type": "code",
   "execution_count": 32,
   "id": "674b8f28",
   "metadata": {},
   "outputs": [],
   "source": [
    "driver = webdriver.Chrome()\n",
    "driver.get('http://statisticstimes.com/')"
   ]
  },
  {
   "cell_type": "code",
   "execution_count": 33,
   "id": "ff8814e4",
   "metadata": {},
   "outputs": [],
   "source": [
    "driver.maximize_window()"
   ]
  },
  {
   "cell_type": "code",
   "execution_count": 37,
   "id": "10e0db7a",
   "metadata": {},
   "outputs": [],
   "source": [
    "economy_button  = driver.find_element(By.XPATH,'//div[@class=\"navbar\"]/div[2]').click()"
   ]
  },
  {
   "cell_type": "code",
   "execution_count": 38,
   "id": "2e1b42a7",
   "metadata": {},
   "outputs": [],
   "source": [
    "india_button  = driver.find_element(By.XPATH,'//div[@class=\"navbar\"]/div[2]/div/a[3]').click()"
   ]
  },
  {
   "cell_type": "code",
   "execution_count": 42,
   "id": "86703d3f",
   "metadata": {},
   "outputs": [],
   "source": [
    "states_gdp = driver.find_element(By.XPATH,'//ul[@style=\"list-style-type:none;margin-left:20px;\"]/li[1]').click()"
   ]
  },
  {
   "cell_type": "code",
   "execution_count": 46,
   "id": "028dc2d3",
   "metadata": {},
   "outputs": [],
   "source": [
    "Rank = []\n",
    "State  = []\n",
    "GSDP_18_19 = []\n",
    "GSDP_19_20 = [] \n",
    "Share = []\n",
    "GDP = []\n",
    "\n",
    "rank_tag = driver.find_elements(By.XPATH,'//div[@id=\"table_id_wrapper\"]/table/tbody//tr/td[1]')\n",
    "for i in rank_tag:\n",
    "    try:\n",
    "        Rank.append(i.text)\n",
    "    except NoSuchElementException:\n",
    "        Rank.append('-')\n",
    "state_tag =driver.find_elements(By.XPATH,'//div[@id=\"table_id_wrapper\"]/table/tbody//tr/td[2]')\n",
    "for i in state_tag:\n",
    "    try:\n",
    "        State.append(i.text)\n",
    "    except NoSuchElementException:\n",
    "        State.append('-')\n",
    "gsdp_tag = driver.find_elements(By.XPATH,'//div[@id=\"table_id_wrapper\"]/table/tbody//tr/td[4]')\n",
    "for i in gsdp_tag:\n",
    "    try:\n",
    "        GSDP_18_19.append(i.text)\n",
    "    except NoSuchElementException:\n",
    "        GSDP_18_19.append('-')\n",
    "\n",
    "gsdp1_tag = driver.find_elements(By.XPATH,'//div[@id=\"table_id_wrapper\"]/table/tbody//tr/td[3]')\n",
    "for i in gsdp1_tag:\n",
    "    try:\n",
    "        GSDP_19_20.append(i.text)\n",
    "    except NoSuchElementException:\n",
    "        GSDP_19_20.append('-')\n",
    "share_tag = driver.find_elements(By.XPATH,'//div[@id=\"table_id_wrapper\"]/table/tbody//tr/td[5]')\n",
    "for i in share_tag:\n",
    "    try:\n",
    "        Share.append(i.text)\n",
    "    except NoSuchElementException:\n",
    "        Share.append('-')\n",
    "gdp_tag = driver.find_elements(By.XPATH,'//div[@id=\"table_id_wrapper\"]/table/tbody//tr/td[6]')\n",
    "for i in gdp_tag:\n",
    "    try:\n",
    "        GDP.append(i.text)\n",
    "    except NoSuchElementException:\n",
    "        GDP.append('-')"
   ]
  },
  {
   "cell_type": "code",
   "execution_count": 47,
   "id": "430b47ba",
   "metadata": {},
   "outputs": [
    {
     "name": "stdout",
     "output_type": "stream",
     "text": [
      "33 33 33 33 33 33\n"
     ]
    }
   ],
   "source": [
    "print(len(Rank),len(State),len(GSDP_18_19),len(GSDP_19_20),len(Share),len(GDP))\n"
   ]
  },
  {
   "cell_type": "code",
   "execution_count": null,
   "id": "b4a27321",
   "metadata": {},
   "outputs": [],
   "source": [
    "gdp_data = pd.DataFrame({\"Rank\": Rank,\"States\": State,\"GSDP(18-19)- at current prices\":GSDP_18_19,\"GSDP(19-20)- at current prices\":GSDP_19_20,\"Share(18-19)\":Share,\"GDP $ Billions\":GDP})\n",
    "\n",
    "gdp_data"
   ]
  },
  {
   "cell_type": "markdown",
   "id": "9ce9161e",
   "metadata": {},
   "source": [
    "## Scrape the details of trending repositories on Github.com. \n",
    "#### Url = https://github.com/ \n",
    "## You have to find the following details: "
   ]
  },
  {
   "cell_type": "code",
   "execution_count": 77,
   "id": "ae0384a8",
   "metadata": {},
   "outputs": [],
   "source": [
    "driver = webdriver.Chrome()\n",
    "driver.get('https://github.com/')\n",
    "time.sleep(1)\n",
    "driver.maximize_window()"
   ]
  },
  {
   "cell_type": "code",
   "execution_count": 78,
   "id": "75a73fdc",
   "metadata": {},
   "outputs": [],
   "source": [
    "source_button = driver.find_element(By.XPATH,'/html/body/div[1]/div[1]/header/div/div[2]/div/nav/ul/li[3]/button').click()\n",
    "trending_button = driver.find_element(By.XPATH,'/html/body/div[1]/div[1]/header/div/div[2]/div/nav/ul/li[3]/div/div[3]/ul/li[2]/a').click()"
   ]
  },
  {
   "cell_type": "code",
   "execution_count": 79,
   "id": "b295f62f",
   "metadata": {},
   "outputs": [],
   "source": [
    "repository_link = []\n",
    "repository_url = driver.find_elements(By.XPATH,'//div[@class=\"Box\"]/div[2]/article/h2/a')\n",
    "for i in repository_url:\n",
    "    repository_link.append(i.get_attribute('href'))"
   ]
  },
  {
   "cell_type": "code",
   "execution_count": 90,
   "id": "df2d6ced",
   "metadata": {},
   "outputs": [],
   "source": [
    "repository_title = []\n",
    "repository_desc  = []\n",
    "contributors_count = []\n",
    "language_used  = []\n",
    "\n",
    "for link in repository_link:\n",
    "    driver.get(link)\n",
    "    time.sleep(2)\n",
    "    try:\n",
    "        title = driver.find_elements(By.XPATH,'/html/body/div[1]/div[4]/div/main/turbo-frame/div/div/div/div[2]/div[1]/readme-toc/div/div[2]/article/h1[1]')\n",
    "        for i in title:\n",
    "            repository_title.append(i.text)\n",
    "    except NoSuchElementException:\n",
    "        repository_title.append(i.text)\n",
    "            \n",
    "    description = driver.find_elements(By.XPATH,'/html/body/div[1]/div[4]/div/main/turbo-frame/div/div/div/div[2]/div[2]/div/div[1]/div/div/p')\n",
    "    try:\n",
    "        for i in description:\n",
    "            repository_desc.append(i.text)\n",
    "    except NoSuchElementException:\n",
    "        repository_desc.append('-')\n",
    "\n",
    "    language = driver.find_elements(By.XPATH,'//div[@data-view-component=\"true\"]/div[@class=\"BorderGrid BorderGrid--spacious\"]/div[6]/div/ul')\n",
    "    try:\n",
    "        for i in language:\n",
    "            language_used.append(i.text)\n",
    "    except NoSuchElementException:\n",
    "        language_used.append('-')\n",
    "       \n",
    "    contributor_tag = driver.find_elements(By.XPATH,'//div[@class=\"BorderGrid BorderGrid--spacious\"]/div[5]/div/h2')\n",
    "    try:\n",
    "        for i in contributor_tag:\n",
    "            contributors_count.append(i.text)\n",
    "    except NoSuchElementException:\n",
    "        \n",
    "        contributors_count.append('-')\n"
   ]
  },
  {
   "cell_type": "code",
   "execution_count": 91,
   "id": "987f15b3",
   "metadata": {},
   "outputs": [
    {
     "name": "stdout",
     "output_type": "stream",
     "text": [
      "20 22 18 15\n"
     ]
    }
   ],
   "source": [
    "print(len(repository_title),len(repository_desc),len(contributors_count),len(language_used))"
   ]
  },
  {
   "cell_type": "code",
   "execution_count": 82,
   "id": "eda040d4",
   "metadata": {},
   "outputs": [
    {
     "data": {
      "text/plain": [
       "25"
      ]
     },
     "execution_count": 82,
     "metadata": {},
     "output_type": "execute_result"
    }
   ],
   "source": []
  },
  {
   "cell_type": "markdown",
   "id": "c9264551",
   "metadata": {},
   "source": [
    "## 5. Scrape the details of top 100 songs on billiboard.com. Url = https:/www.billboard.com/ You have to find the \n",
    " \n"
   ]
  },
  {
   "cell_type": "code",
   "execution_count": 93,
   "id": "9264897c",
   "metadata": {},
   "outputs": [],
   "source": [
    "driver = webdriver.Chrome()\n",
    "driver.get('http://www.billboard.com/')\n",
    "time.sleep(1)\n",
    "driver.maximize_window()\n"
   ]
  },
  {
   "cell_type": "code",
   "execution_count": 94,
   "id": "e30d98ce",
   "metadata": {},
   "outputs": [],
   "source": [
    "charts = driver.find_element(By.XPATH,'/html/body/div[3]/header/div/div[2]/div/div/div[2]/div[2]/div/div/nav/ul/li[1]').click()"
   ]
  },
  {
   "cell_type": "code",
   "execution_count": 95,
   "id": "dfa7e081",
   "metadata": {},
   "outputs": [],
   "source": [
    "view_full_chart = driver.find_element(By.XPATH,'/html/body/div[3]/main/div[2]/div[1]/div[1]/div/div/div[3]/a').click()"
   ]
  },
  {
   "cell_type": "code",
   "execution_count": 98,
   "id": "a266990c",
   "metadata": {},
   "outputs": [],
   "source": [
    "Song_name = []\n",
    "Artist_name = []\n",
    "Last_week_rank = []\n",
    "Peak_rank  = []\n",
    "Weeks_on_board = [] \n",
    "\n",
    "song_tag = driver.find_elements(By.XPATH,'//li[@class=\"lrv-u-width-100p\"]/ul/li/h3')\n",
    "for i in song_tag:\n",
    "    try:\n",
    "        Song_name.append(i.text)\n",
    "    except NoSuchElementException:\n",
    "        Song_name.append\n",
    "artist_tag = driver.find_elements(By.XPATH,'//li[@class=\"lrv-u-width-100p\"]/ul/li[1]/span')\n",
    "for i in artist_tag:\n",
    "    try:\n",
    "        Artist_name.append(i.text)\n",
    "    except NoSuchElementException:\n",
    "        Artist_name.append('-')\n",
    "last_week_tag = driver.find_elements(By.XPATH,'//li[@class=\"lrv-u-width-100p\"]/ul/li[4]/span')\n",
    "for i in last_week_tag:\n",
    "    try:\n",
    "        Last_week_rank.append(i.text)\n",
    "    except NoSuchElementException:\n",
    "        Last_weel_rank.append('-')\n",
    "peak_tag = driver.find_elements(By.XPATH,'//li[@class=\"lrv-u-width-100p\"]/ul/li[5]/span')\n",
    "for i in peak_tag:\n",
    "    try:\n",
    "        Peak_rank.append(i.text)\n",
    "    except NoSuchElementException:\n",
    "        Peak_rank.append('-')\n",
    "\n",
    "week_board = driver.find_elements(By.XPATH,'//li[@class=\"lrv-u-width-100p\"]/ul/li[6]/span')\n",
    "for i in week_board:\n",
    "    try:\n",
    "        Weeks_on_board.append(i.text)\n",
    "    except NoSuchElementException:\n",
    "        Weeks_on_board.append('-')"
   ]
  },
  {
   "cell_type": "code",
   "execution_count": 100,
   "id": "603ef684",
   "metadata": {},
   "outputs": [
    {
     "name": "stdout",
     "output_type": "stream",
     "text": [
      "100 100 100 100 100\n"
     ]
    }
   ],
   "source": [
    "print(len(Song_name),len(Artist_name),len(Last_week_rank),len(Peak_rank),len(Weeks_on_board))"
   ]
  },
  {
   "cell_type": "code",
   "execution_count": 102,
   "id": "9c723abe",
   "metadata": {},
   "outputs": [
    {
     "data": {
      "text/html": [
       "<div>\n",
       "<style scoped>\n",
       "    .dataframe tbody tr th:only-of-type {\n",
       "        vertical-align: middle;\n",
       "    }\n",
       "\n",
       "    .dataframe tbody tr th {\n",
       "        vertical-align: top;\n",
       "    }\n",
       "\n",
       "    .dataframe thead th {\n",
       "        text-align: right;\n",
       "    }\n",
       "</style>\n",
       "<table border=\"1\" class=\"dataframe\">\n",
       "  <thead>\n",
       "    <tr style=\"text-align: right;\">\n",
       "      <th></th>\n",
       "      <th>Song Name</th>\n",
       "      <th>Artist Name</th>\n",
       "      <th>Last Week Rank</th>\n",
       "      <th>Peak Rank</th>\n",
       "      <th>Weeks On Board</th>\n",
       "    </tr>\n",
       "  </thead>\n",
       "  <tbody>\n",
       "    <tr>\n",
       "      <th>0</th>\n",
       "      <td>All I Want For Christmas Is You</td>\n",
       "      <td>Mariah Carey</td>\n",
       "      <td>1</td>\n",
       "      <td>1</td>\n",
       "      <td>64</td>\n",
       "    </tr>\n",
       "    <tr>\n",
       "      <th>1</th>\n",
       "      <td>Rockin' Around The Christmas Tree</td>\n",
       "      <td>Brenda Lee</td>\n",
       "      <td>2</td>\n",
       "      <td>1</td>\n",
       "      <td>57</td>\n",
       "    </tr>\n",
       "    <tr>\n",
       "      <th>2</th>\n",
       "      <td>Jingle Bell Rock</td>\n",
       "      <td>Bobby Helms</td>\n",
       "      <td>3</td>\n",
       "      <td>3</td>\n",
       "      <td>55</td>\n",
       "    </tr>\n",
       "    <tr>\n",
       "      <th>3</th>\n",
       "      <td>Last Christmas</td>\n",
       "      <td>Wham!</td>\n",
       "      <td>4</td>\n",
       "      <td>4</td>\n",
       "      <td>37</td>\n",
       "    </tr>\n",
       "    <tr>\n",
       "      <th>4</th>\n",
       "      <td>A Holly Jolly Christmas</td>\n",
       "      <td>Burl Ives</td>\n",
       "      <td>5</td>\n",
       "      <td>4</td>\n",
       "      <td>38</td>\n",
       "    </tr>\n",
       "    <tr>\n",
       "      <th>...</th>\n",
       "      <td>...</td>\n",
       "      <td>...</td>\n",
       "      <td>...</td>\n",
       "      <td>...</td>\n",
       "      <td>...</td>\n",
       "    </tr>\n",
       "    <tr>\n",
       "      <th>95</th>\n",
       "      <td>Winter Wonderland</td>\n",
       "      <td>Chloe</td>\n",
       "      <td>-</td>\n",
       "      <td>96</td>\n",
       "      <td>1</td>\n",
       "    </tr>\n",
       "    <tr>\n",
       "      <th>96</th>\n",
       "      <td>Run For The Hills</td>\n",
       "      <td>Tate McRae</td>\n",
       "      <td>69</td>\n",
       "      <td>69</td>\n",
       "      <td>2</td>\n",
       "    </tr>\n",
       "    <tr>\n",
       "      <th>97</th>\n",
       "      <td>Que Onda</td>\n",
       "      <td>Calle 24 x Chino Pacas x Fuerza Regida</td>\n",
       "      <td>92</td>\n",
       "      <td>61</td>\n",
       "      <td>12</td>\n",
       "    </tr>\n",
       "    <tr>\n",
       "      <th>98</th>\n",
       "      <td>Great Gatsby</td>\n",
       "      <td>Rod Wave</td>\n",
       "      <td>-</td>\n",
       "      <td>30</td>\n",
       "      <td>13</td>\n",
       "    </tr>\n",
       "    <tr>\n",
       "      <th>99</th>\n",
       "      <td>One Of The Girls</td>\n",
       "      <td>The Weeknd, JENNIE &amp; Lily Rose Depp</td>\n",
       "      <td>-</td>\n",
       "      <td>100</td>\n",
       "      <td>1</td>\n",
       "    </tr>\n",
       "  </tbody>\n",
       "</table>\n",
       "<p>100 rows × 5 columns</p>\n",
       "</div>"
      ],
      "text/plain": [
       "                            Song Name                             Artist Name  \\\n",
       "0     All I Want For Christmas Is You                            Mariah Carey   \n",
       "1   Rockin' Around The Christmas Tree                              Brenda Lee   \n",
       "2                    Jingle Bell Rock                             Bobby Helms   \n",
       "3                      Last Christmas                                   Wham!   \n",
       "4             A Holly Jolly Christmas                               Burl Ives   \n",
       "..                                ...                                     ...   \n",
       "95                  Winter Wonderland                                   Chloe   \n",
       "96                  Run For The Hills                              Tate McRae   \n",
       "97                           Que Onda  Calle 24 x Chino Pacas x Fuerza Regida   \n",
       "98                       Great Gatsby                                Rod Wave   \n",
       "99                   One Of The Girls     The Weeknd, JENNIE & Lily Rose Depp   \n",
       "\n",
       "   Last Week Rank Peak Rank Weeks On Board  \n",
       "0               1         1             64  \n",
       "1               2         1             57  \n",
       "2               3         3             55  \n",
       "3               4         4             37  \n",
       "4               5         4             38  \n",
       "..            ...       ...            ...  \n",
       "95              -        96              1  \n",
       "96             69        69              2  \n",
       "97             92        61             12  \n",
       "98              -        30             13  \n",
       "99              -       100              1  \n",
       "\n",
       "[100 rows x 5 columns]"
      ]
     },
     "execution_count": 102,
     "metadata": {},
     "output_type": "execute_result"
    }
   ],
   "source": [
    "Song_data = pd.DataFrame({\"Song Name\":Song_name,\"Artist Name\":Artist_name,\"Last Week Rank\":Last_week_rank,\"Peak Rank\":Peak_rank,\"Weeks On Board\":Weeks_on_board})\n",
    "Song_data"
   ]
  },
  {
   "cell_type": "markdown",
   "id": "4f45f40d",
   "metadata": {},
   "source": [
    "# Q.6. Scrape the details of Highest selling novels. \n",
    "#### Url - https://www.theguardian.com/news/datablog/2012/aug/09/best-selling-books-all-time-fifty-shades-grey-compare"
   ]
  },
  {
   "cell_type": "code",
   "execution_count": null,
   "id": "98eac360",
   "metadata": {},
   "outputs": [],
   "source": [
    "\n",
    "//div[@class=\"embed block\"]/table/tbody/tr/td[2]\n",
    "//div[@class=\"embed block\"]/table/tbody/tr/td[3]\n",
    "//div[@class=\"embed block\"]/table/tbody/tr/td[4]\n",
    "//div[@class=\"embed block\"]/table/tbody/tr/td[5]\n",
    "A) Book name \n",
    "B) Author name \n",
    "C) Volumes sold \n",
    "D) Publisher \n",
    "E) Genre"
   ]
  },
  {
   "cell_type": "code",
   "execution_count": 112,
   "id": "345377d2",
   "metadata": {},
   "outputs": [],
   "source": [
    "driver = webdriver.Chrome()\n",
    "driver.get('https://www.theguardian.com/news/datablog/2012/aug/09/best-selling-books-all-time-fifty-shades-grey-compare')\n",
    "time.sleep(2)\n",
    "driver.maximize_window()"
   ]
  },
  {
   "cell_type": "code",
   "execution_count": 115,
   "id": "0e0dded7",
   "metadata": {},
   "outputs": [],
   "source": [
    "Rank_no = []\n",
    "Book_name = []\n",
    "Author_name = [] \n",
    "Volumes_sold = [] \n",
    "Publisher = []\n",
    "Genre  = []\n",
    "\n",
    "rank_tag = driver.find_elements(By.XPATH,'//div[@class=\"embed block\"]/table/tbody/tr/td[1]')\n",
    "for i in rank_tag:\n",
    "    try:\n",
    "        Rank_no.append(i.text)\n",
    "    except NoSuchElementException:\n",
    "        Rank_no.append('-')\n",
    "\n",
    "b_name_tag = driver.find_elements(By.XPATH,'//div[@class=\"embed block\"]/table/tbody/tr/td[2]')\n",
    "for i in b_name_tag:\n",
    "    try:\n",
    "        Book_name.append(i.text)\n",
    "    except NoSuchElementException:\n",
    "        Book_name.append('-')\n",
    "author_tag = driver.find_elements(By.XPATH,'//div[@class=\"embed block\"]/table/tbody/tr/td[3]')\n",
    "for i in author_tag:\n",
    "    try:\n",
    "        Author_name.append(i.text)\n",
    "    except NoSuchElementException:\n",
    "        Author_name.append('-')\n",
    "\n",
    "v_sold_tag = driver.find_elements(By.XPATH,'//div[@class=\"embed block\"]/table/tbody/tr/td[4]')\n",
    "for i in v_sold_tag:\n",
    "    try:\n",
    "        Volumes_sold.append(i.text)\n",
    "    except NoSuchElementException:\n",
    "        Volumes_sold.append('-')\n",
    "\n",
    "publisher_tag = driver.find_elements(By.XPATH,'//div[@class=\"embed block\"]/table/tbody/tr/td[5]')\n",
    "for i in publisher_tag:\n",
    "    try:\n",
    "        Publisher.append(i.text)\n",
    "    except NoSuchElementException:\n",
    "        Publisher.append('-')\n",
    "genre_tag = driver.find_elements(By.XPATH,'//div[@class=\"embed block\"]/table/tbody/tr/td[6]')\n",
    "for i in genre_tag:\n",
    "    try:\n",
    "        Genre.append(i.text)\n",
    "    except NoSuchElementException:\n",
    "        Genre.append('-')"
   ]
  },
  {
   "cell_type": "code",
   "execution_count": 116,
   "id": "d9ffe707",
   "metadata": {},
   "outputs": [],
   "source": [
    "Novel_Data = pd.DataFrame({\"Rank No.\":Rank_no,\"Books Name\":Book_name,\"Author Name\":Author_name,\"Volumes Sold\":Volumes_sold,\"Publisher\":Publisher,\"Genre\":Genre}) "
   ]
  },
  {
   "cell_type": "code",
   "execution_count": 117,
   "id": "c573590e",
   "metadata": {},
   "outputs": [
    {
     "data": {
      "text/html": [
       "<div>\n",
       "<style scoped>\n",
       "    .dataframe tbody tr th:only-of-type {\n",
       "        vertical-align: middle;\n",
       "    }\n",
       "\n",
       "    .dataframe tbody tr th {\n",
       "        vertical-align: top;\n",
       "    }\n",
       "\n",
       "    .dataframe thead th {\n",
       "        text-align: right;\n",
       "    }\n",
       "</style>\n",
       "<table border=\"1\" class=\"dataframe\">\n",
       "  <thead>\n",
       "    <tr style=\"text-align: right;\">\n",
       "      <th></th>\n",
       "      <th>Rank No.</th>\n",
       "      <th>Books Name</th>\n",
       "      <th>Author Name</th>\n",
       "      <th>Volumes Sold</th>\n",
       "      <th>Publisher</th>\n",
       "      <th>Genre</th>\n",
       "    </tr>\n",
       "  </thead>\n",
       "  <tbody>\n",
       "    <tr>\n",
       "      <th>0</th>\n",
       "      <td>1</td>\n",
       "      <td>Da Vinci Code,The</td>\n",
       "      <td>Brown, Dan</td>\n",
       "      <td>5,094,805</td>\n",
       "      <td>Transworld</td>\n",
       "      <td>Crime, Thriller &amp; Adventure</td>\n",
       "    </tr>\n",
       "    <tr>\n",
       "      <th>1</th>\n",
       "      <td>2</td>\n",
       "      <td>Harry Potter and the Deathly Hallows</td>\n",
       "      <td>Rowling, J.K.</td>\n",
       "      <td>4,475,152</td>\n",
       "      <td>Bloomsbury</td>\n",
       "      <td>Children's Fiction</td>\n",
       "    </tr>\n",
       "    <tr>\n",
       "      <th>2</th>\n",
       "      <td>3</td>\n",
       "      <td>Harry Potter and the Philosopher's Stone</td>\n",
       "      <td>Rowling, J.K.</td>\n",
       "      <td>4,200,654</td>\n",
       "      <td>Bloomsbury</td>\n",
       "      <td>Children's Fiction</td>\n",
       "    </tr>\n",
       "    <tr>\n",
       "      <th>3</th>\n",
       "      <td>4</td>\n",
       "      <td>Harry Potter and the Order of the Phoenix</td>\n",
       "      <td>Rowling, J.K.</td>\n",
       "      <td>4,179,479</td>\n",
       "      <td>Bloomsbury</td>\n",
       "      <td>Children's Fiction</td>\n",
       "    </tr>\n",
       "    <tr>\n",
       "      <th>4</th>\n",
       "      <td>5</td>\n",
       "      <td>Fifty Shades of Grey</td>\n",
       "      <td>James, E. L.</td>\n",
       "      <td>3,758,936</td>\n",
       "      <td>Random House</td>\n",
       "      <td>Romance &amp; Sagas</td>\n",
       "    </tr>\n",
       "    <tr>\n",
       "      <th>...</th>\n",
       "      <td>...</td>\n",
       "      <td>...</td>\n",
       "      <td>...</td>\n",
       "      <td>...</td>\n",
       "      <td>...</td>\n",
       "      <td>...</td>\n",
       "    </tr>\n",
       "    <tr>\n",
       "      <th>95</th>\n",
       "      <td>96</td>\n",
       "      <td>Ghost,The</td>\n",
       "      <td>Harris, Robert</td>\n",
       "      <td>807,311</td>\n",
       "      <td>Random House</td>\n",
       "      <td>General &amp; Literary Fiction</td>\n",
       "    </tr>\n",
       "    <tr>\n",
       "      <th>96</th>\n",
       "      <td>97</td>\n",
       "      <td>Happy Days with the Naked Chef</td>\n",
       "      <td>Oliver, Jamie</td>\n",
       "      <td>794,201</td>\n",
       "      <td>Penguin</td>\n",
       "      <td>Food &amp; Drink: General</td>\n",
       "    </tr>\n",
       "    <tr>\n",
       "      <th>97</th>\n",
       "      <td>98</td>\n",
       "      <td>Hunger Games,The:Hunger Games Trilogy</td>\n",
       "      <td>Collins, Suzanne</td>\n",
       "      <td>792,187</td>\n",
       "      <td>Scholastic Ltd.</td>\n",
       "      <td>Young Adult Fiction</td>\n",
       "    </tr>\n",
       "    <tr>\n",
       "      <th>98</th>\n",
       "      <td>99</td>\n",
       "      <td>Lost Boy,The:A Foster Child's Search for the L...</td>\n",
       "      <td>Pelzer, Dave</td>\n",
       "      <td>791,507</td>\n",
       "      <td>Orion</td>\n",
       "      <td>Biography: General</td>\n",
       "    </tr>\n",
       "    <tr>\n",
       "      <th>99</th>\n",
       "      <td>100</td>\n",
       "      <td>Jamie's Ministry of Food:Anyone Can Learn to C...</td>\n",
       "      <td>Oliver, Jamie</td>\n",
       "      <td>791,095</td>\n",
       "      <td>Penguin</td>\n",
       "      <td>Food &amp; Drink: General</td>\n",
       "    </tr>\n",
       "  </tbody>\n",
       "</table>\n",
       "<p>100 rows × 6 columns</p>\n",
       "</div>"
      ],
      "text/plain": [
       "   Rank No.                                         Books Name  \\\n",
       "0         1                                  Da Vinci Code,The   \n",
       "1         2               Harry Potter and the Deathly Hallows   \n",
       "2         3           Harry Potter and the Philosopher's Stone   \n",
       "3         4          Harry Potter and the Order of the Phoenix   \n",
       "4         5                               Fifty Shades of Grey   \n",
       "..      ...                                                ...   \n",
       "95       96                                          Ghost,The   \n",
       "96       97                     Happy Days with the Naked Chef   \n",
       "97       98              Hunger Games,The:Hunger Games Trilogy   \n",
       "98       99  Lost Boy,The:A Foster Child's Search for the L...   \n",
       "99      100  Jamie's Ministry of Food:Anyone Can Learn to C...   \n",
       "\n",
       "         Author Name Volumes Sold        Publisher  \\\n",
       "0         Brown, Dan    5,094,805       Transworld   \n",
       "1      Rowling, J.K.    4,475,152       Bloomsbury   \n",
       "2      Rowling, J.K.    4,200,654       Bloomsbury   \n",
       "3      Rowling, J.K.    4,179,479       Bloomsbury   \n",
       "4       James, E. L.    3,758,936     Random House   \n",
       "..               ...          ...              ...   \n",
       "95    Harris, Robert      807,311     Random House   \n",
       "96     Oliver, Jamie      794,201          Penguin   \n",
       "97  Collins, Suzanne      792,187  Scholastic Ltd.   \n",
       "98      Pelzer, Dave      791,507            Orion   \n",
       "99     Oliver, Jamie      791,095          Penguin   \n",
       "\n",
       "                          Genre  \n",
       "0   Crime, Thriller & Adventure  \n",
       "1            Children's Fiction  \n",
       "2            Children's Fiction  \n",
       "3            Children's Fiction  \n",
       "4               Romance & Sagas  \n",
       "..                          ...  \n",
       "95   General & Literary Fiction  \n",
       "96        Food & Drink: General  \n",
       "97          Young Adult Fiction  \n",
       "98           Biography: General  \n",
       "99        Food & Drink: General  \n",
       "\n",
       "[100 rows x 6 columns]"
      ]
     },
     "execution_count": 117,
     "metadata": {},
     "output_type": "execute_result"
    }
   ],
   "source": [
    "Novel_Data"
   ]
  },
  {
   "cell_type": "code",
   "execution_count": null,
   "id": "0c4cd311",
   "metadata": {},
   "outputs": [],
   "source": []
  },
  {
   "cell_type": "markdown",
   "id": "ca4d0420",
   "metadata": {},
   "source": [
    "## Q.7- Scrape the details most watched tv series of all time from imdb.com. \n",
    "\n",
    "#### Url = https://www.imdb.com/list/ls095964455/ You have \n",
    "\n",
    "## to find the following details: \n",
    " "
   ]
  },
  {
   "cell_type": "code",
   "execution_count": 131,
   "id": "8799cff3",
   "metadata": {},
   "outputs": [],
   "source": [
    "driver = webdriver.Chrome()\n",
    "driver.get('https://www.imdb.com/')"
   ]
  },
  {
   "cell_type": "code",
   "execution_count": 132,
   "id": "2b4fc4e5",
   "metadata": {},
   "outputs": [],
   "source": [
    "driver.maximize_window()"
   ]
  },
  {
   "cell_type": "code",
   "execution_count": 133,
   "id": "753dadee",
   "metadata": {},
   "outputs": [],
   "source": [
    "menu = driver.find_element(By.XPATH,'//label[@id=\"imdbHeader-navDrawerOpen\"]').click()"
   ]
  },
  {
   "cell_type": "code",
   "execution_count": 134,
   "id": "e64c8e05",
   "metadata": {},
   "outputs": [],
   "source": [
    "top_shows = driver.find_element(By.XPATH,'/html/body/div[2]/nav/div[2]/aside[1]/div/div[2]/div/div[2]/div[1]/span/div/div/ul/a[2]').click()"
   ]
  },
  {
   "cell_type": "code",
   "execution_count": 135,
   "id": "a88b139d",
   "metadata": {},
   "outputs": [],
   "source": [
    "shows_url = []\n",
    "links_tag = driver.find_elements(By.XPATH,'//div[@class=\"sc-43986a27-0 gUQEVh cli-children\"]/div/a')\n",
    "for link in links_tag:\n",
    "    shows_url.append(link.get_attribute('href'))\n",
    "    "
   ]
  },
  {
   "cell_type": "code",
   "execution_count": 136,
   "id": "6a170cd2",
   "metadata": {},
   "outputs": [],
   "source": [
    "Name = [] \n",
    "Year_span = [] \n",
    "Genre  = []\n",
    "Run_time = []\n",
    "Ratings = []\n",
    "Votes  = []\n",
    "for url in shows_url:\n",
    "    driver.get(url)\n",
    "    time.sleep(2)\n",
    "    name_tag  = driver.find_elements(By.XPATH,'//div[@class=\"sc-69e49b85-0 jqlHBQ\"]/h1/span')\n",
    "    for i in name_tag:\n",
    "        try:\n",
    "            Name.append(i.text)\n",
    "        except NoSuchElementException:\n",
    "            Name.append('-')\n",
    "                   \n",
    "    year_tag = driver.find_elements(By.XPATH,'//div[@class=\"sc-69e49b85-0 jqlHBQ\"]/ul/li[2]')\n",
    "    for i in year_tag:\n",
    "        try:\n",
    "            Year_span.append(i.text)\n",
    "        except NoSuchElementException:\n",
    "            Year_span.append('-')\n",
    "            \n",
    "    genre_tag  =driver.find_elements(By.XPATH,'//div[@class=\"ipc-chip-list--baseAlt ipc-chip-list\"]')\n",
    "    for i in genre_tag:\n",
    "        try:\n",
    "            Genre.append(i.text)\n",
    "        except NoSuchElementException:\n",
    "            Genre.append('-')\n",
    "  \n",
    "    runtime_tag = driver.find_elements(By.XPATH,'//div[@class=\"sc-69e49b85-0 jqlHBQ\"]/ul/li[4]')\n",
    "    for i in runtime_tag:\n",
    "        try:\n",
    "            Run_time.append(i.text)\n",
    "        except NoSuchElementException:\n",
    "            Run_time.append('-')\n",
    "            \n",
    "    ratings_tag = driver.find_elements(By.XPATH,'/html/body/div[2]/main/div/section[1]/section/div[3]/section/section/div[2]/div[2]/div/div[1]/a/span/div/div[2]/div[1]')\n",
    "    \n",
    "    for i in ratings_tag:\n",
    "        try:\n",
    "            Ratings.append(i.text)\n",
    "        except NoSuchElementException:\n",
    "            Ratings.append('-')\n",
    "            \n",
    "    votes_tag  = driver.find_elements(By.XPATH,'/html/body/div[2]/main/div/section[1]/section/div[3]/section/section/div[2]/div[2]/div/div[1]/a/span/div/div[2]/div[3]')\n",
    "    for i in votes_tag:\n",
    "        try:\n",
    "            Votes.append(i.text)\n",
    "        except NoSuchElementException:\n",
    "            Votes.append('-')\n",
    "            "
   ]
  },
  {
   "cell_type": "code",
   "execution_count": 137,
   "id": "46bca2f8",
   "metadata": {},
   "outputs": [
    {
     "name": "stdout",
     "output_type": "stream",
     "text": [
      "250 250 250 245 250 250\n"
     ]
    }
   ],
   "source": [
    "print(len(Name),len(Year_span),len(Genre),len(Run_time),len(Ratings),len(Votes)) "
   ]
  },
  {
   "cell_type": "code",
   "execution_count": null,
   "id": "936a7498",
   "metadata": {},
   "outputs": [],
   "source": []
  },
  {
   "cell_type": "markdown",
   "id": "3943ac0a",
   "metadata": {},
   "source": [
    "## Q.8-Details of Datasets from UCI machine learning repositories. \n",
    "#### Url = https://archive.ics.uci.edu/ You \n",
    "## have to find the following details: \n",
    " \n",
    "### Note: - from the home page you have to go to the Show All Dataset page through code."
   ]
  },
  {
   "cell_type": "code",
   "execution_count": 197,
   "id": "2c3a61fb",
   "metadata": {},
   "outputs": [],
   "source": [
    "driver = webdriver.Chrome()\n",
    "driver.get('https://archive.ics.uci.edu/')\n",
    "time.sleep(1)\n",
    "driver.maximize_window()\n",
    "\n",
    "datasets = driver.find_element(By.XPATH,'//div[@class=\"flex flex-wrap justify-center gap-5\"]/a[1]').click()\n"
   ]
  },
  {
   "cell_type": "code",
   "execution_count": 199,
   "id": "45a8410d",
   "metadata": {},
   "outputs": [
    {
     "name": "stdout",
     "output_type": "stream",
     "text": [
      "An error occurred: Message: element click intercepted: Element <button class=\"btn-primary btn-sm btn\" aria-label=\"Next Page\" disabled=\"\">...</button> is not clickable at point (1224, 262). Other element would receive the click: <div class=\"btn-group\">...</div>\n",
      "  (Session info: chrome=120.0.6099.111)\n",
      "Stacktrace:\n",
      "\tGetHandleVerifier [0x00007FF7E2A32142+3514994]\n",
      "\t(No symbol) [0x00007FF7E2650CE2]\n",
      "\t(No symbol) [0x00007FF7E24F76AA]\n",
      "\t(No symbol) [0x00007FF7E25488F3]\n",
      "\t(No symbol) [0x00007FF7E25468ED]\n",
      "\t(No symbol) [0x00007FF7E25440EC]\n",
      "\t(No symbol) [0x00007FF7E2542EA5]\n",
      "\t(No symbol) [0x00007FF7E2536A0F]\n",
      "\t(No symbol) [0x00007FF7E2565FEA]\n",
      "\t(No symbol) [0x00007FF7E25363B6]\n",
      "\t(No symbol) [0x00007FF7E2566490]\n",
      "\t(No symbol) [0x00007FF7E25828F6]\n",
      "\t(No symbol) [0x00007FF7E2565D93]\n",
      "\t(No symbol) [0x00007FF7E2534BDC]\n",
      "\t(No symbol) [0x00007FF7E2535C64]\n",
      "\tGetHandleVerifier [0x00007FF7E2A5E16B+3695259]\n",
      "\tGetHandleVerifier [0x00007FF7E2AB6737+4057191]\n",
      "\tGetHandleVerifier [0x00007FF7E2AAE4E3+4023827]\n",
      "\tGetHandleVerifier [0x00007FF7E27804F9+689705]\n",
      "\t(No symbol) [0x00007FF7E265C048]\n",
      "\t(No symbol) [0x00007FF7E2658044]\n",
      "\t(No symbol) [0x00007FF7E26581C9]\n",
      "\t(No symbol) [0x00007FF7E26488C4]\n",
      "\tBaseThreadInitThunk [0x00007FFD4228257D+29]\n",
      "\tRtlUserThreadStart [0x00007FFD42EEAA58+40]\n",
      "\n",
      "['https://archive.ics.uci.edu/dataset/53/iris', 'https://archive.ics.uci.edu/dataset/602/dry+bean+dataset', 'https://archive.ics.uci.edu/dataset/545/rice+cammeo+and+osmancik', 'https://archive.ics.uci.edu/dataset/45/heart+disease', 'https://archive.ics.uci.edu/dataset/2/adult', 'https://archive.ics.uci.edu/dataset/109/wine', 'https://archive.ics.uci.edu/dataset/17/breast+cancer+wisconsin+diagnostic', 'https://archive.ics.uci.edu/dataset/34/diabetes', 'https://archive.ics.uci.edu/dataset/186/wine+quality', 'https://archive.ics.uci.edu/dataset/19/car+evaluation', 'https://archive.ics.uci.edu/dataset/53/iris', 'https://archive.ics.uci.edu/dataset/602/dry+bean+dataset', 'https://archive.ics.uci.edu/dataset/545/rice+cammeo+and+osmancik', 'https://archive.ics.uci.edu/dataset/45/heart+disease', 'https://archive.ics.uci.edu/dataset/2/adult', 'https://archive.ics.uci.edu/dataset/109/wine', 'https://archive.ics.uci.edu/dataset/17/breast+cancer+wisconsin+diagnostic', 'https://archive.ics.uci.edu/dataset/34/diabetes', 'https://archive.ics.uci.edu/dataset/186/wine+quality', 'https://archive.ics.uci.edu/dataset/19/car+evaluation', 'https://archive.ics.uci.edu/dataset/222/bank+marketing', 'https://archive.ics.uci.edu/dataset/73/mushroom', 'https://archive.ics.uci.edu/dataset/1/abalone', 'https://archive.ics.uci.edu/dataset/20/census+income', 'https://archive.ics.uci.edu/dataset/320/student+performance', 'https://archive.ics.uci.edu/dataset/144/statlog+german+credit+data', 'https://archive.ics.uci.edu/dataset/10/automobile', 'https://archive.ics.uci.edu/dataset/14/breast+cancer', 'https://archive.ics.uci.edu/dataset/352/online+retail', 'https://archive.ics.uci.edu/dataset/9/auto+mpg', 'https://archive.ics.uci.edu/dataset/15/breast+cancer+wisconsin+original', 'https://archive.ics.uci.edu/dataset/94/spambase', 'https://archive.ics.uci.edu/dataset/697/predict+students+dropout+and+academic+success', 'https://archive.ics.uci.edu/dataset/42/glass+identification', 'https://archive.ics.uci.edu/dataset/102/thyroid+disease', 'https://archive.ics.uci.edu/dataset/27/credit+approval', 'https://archive.ics.uci.edu/dataset/360/air+quality', 'https://archive.ics.uci.edu/dataset/80/optical+recognition+of+handwritten+digits', 'https://archive.ics.uci.edu/dataset/111/zoo', 'https://archive.ics.uci.edu/dataset/502/online+retail+ii', 'https://archive.ics.uci.edu/dataset/350/default+of+credit+card+clients', 'https://archive.ics.uci.edu/dataset/240/human+activity+recognition+using+smartphones', 'https://archive.ics.uci.edu/dataset/275/bike+sharing+dataset', 'https://archive.ics.uci.edu/dataset/62/lung+cancer', 'https://archive.ics.uci.edu/dataset/60/liver+disorders', 'https://archive.ics.uci.edu/dataset/31/covertype', 'https://archive.ics.uci.edu/dataset/228/sms+spam+collection', 'https://archive.ics.uci.edu/dataset/59/letter+recognition', 'https://archive.ics.uci.edu/dataset/52/ionosphere', 'https://archive.ics.uci.edu/dataset/235/individual+household+electric+power+consumption', 'https://archive.ics.uci.edu/dataset/468/online+shoppers+purchasing+intention+dataset', 'https://archive.ics.uci.edu/dataset/51/internet+advertisements', 'https://archive.ics.uci.edu/dataset/46/hepatitis', 'https://archive.ics.uci.edu/dataset/29/computer+hardware', 'https://archive.ics.uci.edu/dataset/159/magic+gamma+telescope', 'https://archive.ics.uci.edu/dataset/162/forest+fires', 'https://archive.ics.uci.edu/dataset/544/estimation+of+obesity+levels+based+on+eating+habits+and+physical+condition', 'https://archive.ics.uci.edu/dataset/105/congressional+voting+records', 'https://archive.ics.uci.edu/dataset/519/heart+failure+clinical+records', 'https://archive.ics.uci.edu/dataset/110/yeast', 'https://archive.ics.uci.edu/dataset/151/connectionist+bench+sonar+mines+vs+rocks', 'https://archive.ics.uci.edu/dataset/50/image+segmentation', 'https://archive.ics.uci.edu/dataset/296/diabetes+130-us+hospitals+for+years+1999-2008', 'https://archive.ics.uci.edu/dataset/101/tic+tac+toe+endgame', 'https://archive.ics.uci.edu/dataset/81/pen+based+recognition+of+handwritten+digits', 'https://archive.ics.uci.edu/dataset/236/seeds', 'https://archive.ics.uci.edu/dataset/76/nursery', 'https://archive.ics.uci.edu/dataset/5/arrhythmia', 'https://archive.ics.uci.edu/dataset/143/statlog+australian+credit+approval', 'https://archive.ics.uci.edu/dataset/477/real+estate+valuation+data+set', 'https://archive.ics.uci.edu/dataset/16/breast+cancer+wisconsin+prognostic', 'https://archive.ics.uci.edu/dataset/12/balance+scale', 'https://archive.ics.uci.edu/dataset/242/energy+efficiency', 'https://archive.ics.uci.edu/dataset/121/eeg+database', 'https://archive.ics.uci.edu/dataset/90/soybean+large', 'https://archive.ics.uci.edu/dataset/560/seoul+bike+sharing+demand', 'https://archive.ics.uci.edu/dataset/145/statlog+heart', 'https://archive.ics.uci.edu/dataset/891/cdc+diabetes+health+indicators', 'https://archive.ics.uci.edu/dataset/292/wholesale+customers', 'https://archive.ics.uci.edu/dataset/137/reuters+21578+text+categorization+collection', 'https://archive.ics.uci.edu/dataset/33/dermatology', 'https://archive.ics.uci.edu/dataset/555/apartment+for+rent+classified', 'https://archive.ics.uci.edu/dataset/165/concrete+compressive+strength', 'https://archive.ics.uci.edu/dataset/146/statlog+landsat+satellite', 'https://archive.ics.uci.edu/dataset/174/parkinsons', 'https://archive.ics.uci.edu/dataset/601/ai4i+2020+predictive+maintenance+dataset', 'https://archive.ics.uci.edu/dataset/39/ecoli', 'https://archive.ics.uci.edu/dataset/89/solar+flare', 'https://archive.ics.uci.edu/dataset/148/statlog+shuttle', 'https://archive.ics.uci.edu/dataset/132/movie', 'https://archive.ics.uci.edu/dataset/149/statlog+vehicle+silhouettes', 'https://archive.ics.uci.edu/dataset/125/insurance+company+benchmark+coil+2000', 'https://archive.ics.uci.edu/dataset/332/online+news+popularity', 'https://archive.ics.uci.edu/dataset/54/isolet', 'https://archive.ics.uci.edu/dataset/30/contraceptive+method+choice', 'https://archive.ics.uci.edu/dataset/91/soybean+small', 'https://archive.ics.uci.edu/dataset/67/molecular+biology+promoter+gene+sequences', 'https://archive.ics.uci.edu/dataset/154/protein+data', 'https://archive.ics.uci.edu/dataset/98/statlog+project', 'https://archive.ics.uci.edu/dataset/107/waveform+database+generator+version+1', 'https://archive.ics.uci.edu/dataset/321/electricityloaddiagrams20112014', 'https://archive.ics.uci.edu/dataset/267/banknote+authentication', 'https://archive.ics.uci.edu/dataset/58/lenses', 'https://archive.ics.uci.edu/dataset/336/chronic+kidney+disease', 'https://archive.ics.uci.edu/dataset/40/flags', 'https://archive.ics.uci.edu/dataset/47/horse+colic', 'https://archive.ics.uci.edu/dataset/124/cmu+face+images', 'https://archive.ics.uci.edu/dataset/130/kdd+cup+1999+data', 'https://archive.ics.uci.edu/dataset/4/anonymous+microsoft+web+data', 'https://archive.ics.uci.edu/dataset/529/early+stage+diabetes+risk+prediction+dataset', 'https://archive.ics.uci.edu/dataset/327/phishing+websites', 'https://archive.ics.uci.edu/dataset/70/monk+s+problems', 'https://archive.ics.uci.edu/dataset/43/haberman+s+survival', 'https://archive.ics.uci.edu/dataset/374/appliances+energy+prediction', 'https://archive.ics.uci.edu/dataset/69/molecular+biology+splice+junction+gene+sequences', 'https://archive.ics.uci.edu/dataset/597/productivity+prediction+of+garment+employees', 'https://archive.ics.uci.edu/dataset/462/drug+review+dataset+drugs+com', 'https://archive.ics.uci.edu/dataset/791/metropt+3+dataset', 'https://archive.ics.uci.edu/dataset/74/musk+version+1', 'https://archive.ics.uci.edu/dataset/38/echocardiogram', 'https://archive.ics.uci.edu/dataset/294/combined+cycle+power+plant', 'https://archive.ics.uci.edu/dataset/733/water+quality+prediction-1', 'https://archive.ics.uci.edu/dataset/608/traffic+flow+forecasting', 'https://archive.ics.uci.edu/dataset/13/balloons', 'https://archive.ics.uci.edu/dataset/117/census+income+kdd', 'https://archive.ics.uci.edu/dataset/759/glioma+grading+clinical+and+mutation+features+dataset', 'https://archive.ics.uci.edu/dataset/87/servo', 'https://archive.ics.uci.edu/dataset/83/primary+tumor', 'https://archive.ics.uci.edu/dataset/95/spect+heart', 'https://archive.ics.uci.edu/dataset/183/communities+and+crime', 'https://archive.ics.uci.edu/dataset/116/us+census+data+1990', 'https://archive.ics.uci.edu/dataset/72/multiple+features', 'https://archive.ics.uci.edu/dataset/22/chess+king+rook+vs+king+pawn', 'https://archive.ics.uci.edu/dataset/155/cloud', 'https://archive.ics.uci.edu/dataset/763/land+mines-1', 'https://archive.ics.uci.edu/dataset/331/sentiment+labelled+sentences', 'https://archive.ics.uci.edu/dataset/770/nasa+flood+extent+detection', 'https://archive.ics.uci.edu/dataset/25/bach+chorales', 'https://archive.ics.uci.edu/dataset/3/annealing', 'https://archive.ics.uci.edu/dataset/445/absenteeism+at+work', 'https://archive.ics.uci.edu/dataset/280/higgs', 'https://archive.ics.uci.edu/dataset/373/drug+consumption+quantified', 'https://archive.ics.uci.edu/dataset/26/connect+4', 'https://archive.ics.uci.edu/dataset/465/wesad+wearable+stress+and+affect+detection', 'https://archive.ics.uci.edu/dataset/63/lymphography', 'https://archive.ics.uci.edu/dataset/28/japanese+credit+screening', 'https://archive.ics.uci.edu/dataset/856/higher+education+students+performance+evaluation', 'https://archive.ics.uci.edu/dataset/92/challenger+usa+space+shuttle+o+ring', 'https://archive.ics.uci.edu/dataset/189/parkinsons+telemonitoring', 'https://archive.ics.uci.edu/dataset/23/chess+king+rook+vs+king', 'https://archive.ics.uci.edu/dataset/732/darwin', 'https://archive.ics.uci.edu/dataset/563/iranian+churn+dataset', 'https://archive.ics.uci.edu/dataset/158/poker+hand', 'https://archive.ics.uci.edu/dataset/553/clickstream+data+for+online+shopping', 'https://archive.ics.uci.edu/dataset/32/cylinder+bands', 'https://archive.ics.uci.edu/dataset/56/labor+relations', 'https://archive.ics.uci.edu/dataset/773/defungi', 'https://archive.ics.uci.edu/dataset/571/hcv+data', 'https://archive.ics.uci.edu/dataset/7/audiology+original', 'https://archive.ics.uci.edu/dataset/579/myocardial+infarction+complications', 'https://archive.ics.uci.edu/dataset/114/australian+sign+language+signs', 'https://archive.ics.uci.edu/dataset/78/page+blocks+classification', 'https://archive.ics.uci.edu/dataset/312/dow+jones+index', 'https://archive.ics.uci.edu/dataset/365/polish+companies+bankruptcy+data', 'https://archive.ics.uci.edu/dataset/780/har70', 'https://archive.ics.uci.edu/dataset/113/twenty+newsgroups', 'https://archive.ics.uci.edu/dataset/108/waveform+database+generator+version+2', 'https://archive.ics.uci.edu/dataset/8/audiology+standardized', 'https://archive.ics.uci.edu/dataset/572/taiwanese+bankruptcy+prediction', 'https://archive.ics.uci.edu/dataset/484/travel+reviews', 'https://archive.ics.uci.edu/dataset/383/cervical+cancer+risk+factors', 'https://archive.ics.uci.edu/dataset/57/led+display+domain', 'https://archive.ics.uci.edu/dataset/44/hayes+roth', 'https://archive.ics.uci.edu/dataset/501/beijing+multi+site+air+quality+data', 'https://archive.ics.uci.edu/dataset/887/national+health+and+nutrition+health+survey+2013-2014+(nhanes)+age+prediction+subset', 'https://archive.ics.uci.edu/dataset/21/chess+king+rook+vs+king+knight', 'https://archive.ics.uci.edu/dataset/225/ilpd+indian+liver+patient+dataset', 'https://archive.ics.uci.edu/dataset/119/corel+image+features', 'https://archive.ics.uci.edu/dataset/244/fertility', 'https://archive.ics.uci.edu/dataset/613/smartphone+dataset+for+anomaly+detection+in+crowds', 'https://archive.ics.uci.edu/dataset/396/sales+transactions+dataset+weekly', 'https://archive.ics.uci.edu/dataset/515/bar+crawl+detecting+heavy+drinking', 'https://archive.ics.uci.edu/dataset/82/post+operative+patient', 'https://archive.ics.uci.edu/dataset/122/el+nino', 'https://archive.ics.uci.edu/dataset/75/musk+version+2', 'https://archive.ics.uci.edu/dataset/492/metro+interstate+traffic+volume', 'https://archive.ics.uci.edu/dataset/123/entree+chicago+recommendation+data', 'https://archive.ics.uci.edu/dataset/68/molecular+biology+protein+secondary+structure', 'https://archive.ics.uci.edu/dataset/120/e+coli+genes', 'https://archive.ics.uci.edu/dataset/193/cardiotocography', 'https://archive.ics.uci.edu/dataset/96/spectf+heart', 'https://archive.ics.uci.edu/dataset/147/statlog+image+segmentation', 'https://archive.ics.uci.edu/dataset/451/breast+cancer+coimbra', 'https://archive.ics.uci.edu/dataset/573/south+german+credit+update', 'https://archive.ics.uci.edu/dataset/388/epileptic+seizure+recognition', 'https://archive.ics.uci.edu/dataset/779/harth', 'https://archive.ics.uci.edu/dataset/734/traffic+flow+forecasting-1', 'https://archive.ics.uci.edu/dataset/129/kdd+cup+1998+data', 'https://archive.ics.uci.edu/dataset/176/blood+transfusion+service+center', 'https://archive.ics.uci.edu/dataset/381/beijing+pm2+5+data', 'https://archive.ics.uci.edu/dataset/760/multivariate+gait+data', 'https://archive.ics.uci.edu/dataset/319/mhealth+dataset', 'https://archive.ics.uci.edu/dataset/103/trains', 'https://archive.ics.uci.edu/dataset/88/shuttle+landing+control', 'https://archive.ics.uci.edu/dataset/368/facebook+metrics', 'https://archive.ics.uci.edu/dataset/152/connectionist+bench+vowel+recognition+deterding+data', 'https://archive.ics.uci.edu/dataset/115/australian+sign+language+signs+high+quality', 'https://archive.ics.uci.edu/dataset/890/aids+clinical+trials+group+study+175', 'https://archive.ics.uci.edu/dataset/18/pittsburgh+bridges', 'https://archive.ics.uci.edu/dataset/547/algerian+forest+fires+dataset', 'https://archive.ics.uci.edu/dataset/409/daily+demand+forecasting+orders', 'https://archive.ics.uci.edu/dataset/256/daily+and+sports+activities', 'https://archive.ics.uci.edu/dataset/379/website+phishing', 'https://archive.ics.uci.edu/dataset/442/detection+of+iot+botnet+attacks+n+baiot', 'https://archive.ics.uci.edu/dataset/611/hierarchical+sales+data', 'https://archive.ics.uci.edu/dataset/231/pamap2+physical+activity+monitoring', 'https://archive.ics.uci.edu/dataset/892/tcga+kidney+cancers', 'https://archive.ics.uci.edu/dataset/264/eeg+eye+state', 'https://archive.ics.uci.edu/dataset/603/in+vehicle+coupon+recommendation', 'https://archive.ics.uci.edu/dataset/346/educational+process+mining+epm+a+learning+analytics+data+set', 'https://archive.ics.uci.edu/dataset/863/maternal+health+risk', 'https://archive.ics.uci.edu/dataset/591/gender+by+name', 'https://archive.ics.uci.edu/dataset/683/mnist+database+of+handwritten+digits', 'https://archive.ics.uci.edu/dataset/153/economic+sanctions', 'https://archive.ics.uci.edu/dataset/470/parkinson+s+disease+classification', 'https://archive.ics.uci.edu/dataset/161/mammographic+mass', 'https://archive.ics.uci.edu/dataset/140/syskill+and+webert+web+page+ratings', 'https://archive.ics.uci.edu/dataset/390/stock+portfolio+performance', 'https://archive.ics.uci.edu/dataset/432/news+popularity+in+multiple+social+media+platforms', 'https://archive.ics.uci.edu/dataset/516/kitsune+network+attack+dataset', 'https://archive.ics.uci.edu/dataset/426/autism+screening+adult', 'https://archive.ics.uci.edu/dataset/752/bosch+cnc+machining+dataset', 'https://archive.ics.uci.edu/dataset/66/mobile+robots', 'https://archive.ics.uci.edu/dataset/300/tennis+major+tournament+match+statistics', 'https://archive.ics.uci.edu/dataset/693/imagenet', 'https://archive.ics.uci.edu/dataset/864/room+occupancy+estimation', 'https://archive.ics.uci.edu/dataset/247/istanbul+stock+exchange', 'https://archive.ics.uci.edu/dataset/203/yearpredictionmsd', 'https://archive.ics.uci.edu/dataset/172/ozone+level+detection', 'https://archive.ics.uci.edu/dataset/878/cirrhosis+patient+survival+prediction+dataset-1', 'https://archive.ics.uci.edu/dataset/464/superconductivty+data', 'https://archive.ics.uci.edu/dataset/488/facebook+live+sellers+in+thailand', 'https://archive.ics.uci.edu/dataset/471/electrical+grid+stability+simulated+data', 'https://archive.ics.uci.edu/dataset/769/turkish+user+review+dataset', 'https://archive.ics.uci.edu/dataset/880/support2', 'https://archive.ics.uci.edu/dataset/882/large-scale+wave+energy+farm', 'https://archive.ics.uci.edu/dataset/857/risk+factor+prediction+of+chronic+kidney+disease', 'https://archive.ics.uci.edu/dataset/141/unix+user+data', 'https://archive.ics.uci.edu/dataset/127/ipums+census+database', 'https://archive.ics.uci.edu/dataset/212/vertebral+column', 'https://archive.ics.uci.edu/dataset/467/student+academics+performance', 'https://archive.ics.uci.edu/dataset/179/secom', 'https://archive.ics.uci.edu/dataset/536/pedestrian+in+traffic+dataset', 'https://archive.ics.uci.edu/dataset/401/gene+expression+cancer+rna+seq', 'https://archive.ics.uci.edu/dataset/551/gas+turbine+co+and+nox+emission+data+set', 'https://archive.ics.uci.edu/dataset/587/basketball+dataset', 'https://archive.ics.uci.edu/dataset/730/physical+therapy+exercises+dataset', 'https://archive.ics.uci.edu/dataset/486/rice+leaf+diseases', 'https://archive.ics.uci.edu/dataset/447/condition+monitoring+of+hydraulic+systems', 'https://archive.ics.uci.edu/dataset/461/drug+review+dataset+druglib+com', 'https://archive.ics.uci.edu/dataset/522/south+german+credit', 'https://archive.ics.uci.edu/dataset/180/plants', 'https://archive.ics.uci.edu/dataset/344/heterogeneity+activity+recognition', 'https://archive.ics.uci.edu/dataset/164/bag+of+words', 'https://archive.ics.uci.edu/dataset/24/chess+domain+theories', 'https://archive.ics.uci.edu/dataset/386/fma+a+dataset+for+music+analysis', 'https://archive.ics.uci.edu/dataset/270/gas+sensor+array+drift+dataset+at+different+concentrations', 'https://archive.ics.uci.edu/dataset/690/palmer+penguins-3', 'https://archive.ics.uci.edu/dataset/722/naticusdroid+android+permissions+dataset', 'https://archive.ics.uci.edu/dataset/229/skin+segmentation', 'https://archive.ics.uci.edu/dataset/485/tarvel+review+ratings', 'https://archive.ics.uci.edu/dataset/799/single+elder+home+monitoring+gas+and+position', 'https://archive.ics.uci.edu/dataset/410/paper+reviews', 'https://archive.ics.uci.edu/dataset/533/detect+malware+types', 'https://archive.ics.uci.edu/dataset/216/amazon+access+samples', 'https://archive.ics.uci.edu/dataset/728/toxicity-2', 'https://archive.ics.uci.edu/dataset/848/secondary+mushroom+dataset', 'https://archive.ics.uci.edu/dataset/380/youtube+spam+collection', 'https://archive.ics.uci.edu/dataset/503/hepatitis+c+virus+hcv+for+egyptian+patients', 'https://archive.ics.uci.edu/dataset/372/htru2', 'https://archive.ics.uci.edu/dataset/437/residential+building+data+set', 'https://archive.ics.uci.edu/dataset/357/occupancy+detection', 'https://archive.ics.uci.edu/dataset/537/cervical+cancer+behavior+risk', 'https://archive.ics.uci.edu/dataset/301/parkinson+speech+dataset+with+multiple+types+of+sound+recordings', 'https://archive.ics.uci.edu/dataset/565/bone+marrow+transplant+children', 'https://archive.ics.uci.edu/dataset/742/soda', 'https://archive.ics.uci.edu/dataset/475/audit+data', 'https://archive.ics.uci.edu/dataset/342/mice+protein+expression', 'https://archive.ics.uci.edu/dataset/567/covid+19+surveillance', 'https://archive.ics.uci.edu/dataset/226/opportunity+activity+recognition', 'https://archive.ics.uci.edu/dataset/211/communities+and+crime+unnormalized', 'https://archive.ics.uci.edu/dataset/291/airfoil+self+noise', 'https://archive.ics.uci.edu/dataset/481/emg+data+for+gestures', 'https://archive.ics.uci.edu/dataset/257/user+knowledge+modeling', 'https://archive.ics.uci.edu/dataset/363/facebook+comment+volume+dataset', 'https://archive.ics.uci.edu/dataset/367/dota2+games+results', 'https://archive.ics.uci.edu/dataset/713/auction+verification', 'https://archive.ics.uci.edu/dataset/496/alcohol+qcm+sensor+dataset', 'https://archive.ics.uci.edu/dataset/215/amazon+commerce+reviews+set', 'https://archive.ics.uci.edu/dataset/340/cuff+less+blood+pressure+estimation', 'https://archive.ics.uci.edu/dataset/184/acute+inflammations', 'https://archive.ics.uci.edu/dataset/607/synchronous+machine+data+set', 'https://archive.ics.uci.edu/dataset/755/accelerometer+gyro+mobile+phone+dataset', 'https://archive.ics.uci.edu/dataset/582/student+performance+on+an+entrance+examination', 'https://archive.ics.uci.edu/dataset/329/diabetic+retinopathy+debrecen', 'https://archive.ics.uci.edu/dataset/735/cisco+secure+workload+networks+of+computing+hosts', 'https://archive.ics.uci.edu/dataset/526/bitcoinheistransomwareaddressdataset', 'https://archive.ics.uci.edu/dataset/498/incident+management+process+enriched+event+log', 'https://archive.ics.uci.edu/dataset/106/water+treatment+plant', 'https://archive.ics.uci.edu/dataset/580/hungarian+chickenpox+cases', 'https://archive.ics.uci.edu/dataset/182/concrete+slump+test', 'https://archive.ics.uci.edu/dataset/387/air+quality', 'https://archive.ics.uci.edu/dataset/341/smartphone+based+recognition+of+human+activities+and+postural+transitions', 'https://archive.ics.uci.edu/dataset/506/human+activity+recognition+from+continuous+ambient+sensor+data', 'https://archive.ics.uci.edu/dataset/349/open+university+learning+analytics+dataset', 'https://archive.ics.uci.edu/dataset/316/condition+based+maintenance+of+naval+propulsion+plants', 'https://archive.ics.uci.edu/dataset/495/ppg+dalia', 'https://archive.ics.uci.edu/dataset/303/perfume+data', 'https://archive.ics.uci.edu/dataset/198/steel+plates+faults', 'https://archive.ics.uci.edu/dataset/487/gas+sensor+array+temperature+modulation', 'https://archive.ics.uci.edu/dataset/827/sepsis+survival+minimal+clinical+records', 'https://archive.ics.uci.edu/dataset/288/leaf', 'https://archive.ics.uci.edu/dataset/419/autistic+spectrum+disorder+screening+data+for+children', 'https://archive.ics.uci.edu/dataset/691/cifar+10', 'https://archive.ics.uci.edu/dataset/849/power+consumption+of+tetouan+city', 'https://archive.ics.uci.edu/dataset/395/parkinson+disease+spiral+drawings+using+digitized+graphics+tablet', 'https://archive.ics.uci.edu/dataset/397/las+vegas+strip', 'https://archive.ics.uci.edu/dataset/483/behavior+of+the+urban+traffic+of+the+city+of+sao+paulo+in+brazil', 'https://archive.ics.uci.edu/dataset/482/parking+birmingham', 'https://archive.ics.uci.edu/dataset/243/yacht+hydrodynamics', 'https://archive.ics.uci.edu/dataset/290/tamilnadu+electricity+board+hourly+readings', 'https://archive.ics.uci.edu/dataset/542/internet+firewall+data', 'https://archive.ics.uci.edu/dataset/178/semeion+handwritten+digit', 'https://archive.ics.uci.edu/dataset/322/gas+sensor+array+under+dynamic+gas+mixtures', 'https://archive.ics.uci.edu/dataset/277/thoracic+surgery+data', 'https://archive.ics.uci.edu/dataset/507/wisdm+smartphone+and+smartwatch+activity+and+biometrics+dataset', 'https://archive.ics.uci.edu/dataset/224/gas+sensor+array+drift+dataset', 'https://archive.ics.uci.edu/dataset/100/teaching+assistant+evaluation', 'https://archive.ics.uci.edu/dataset/564/unmanned+aerial+vehicle+uav+intrusion+detection', 'https://archive.ics.uci.edu/dataset/310/ujiindoorloc', 'https://archive.ics.uci.edu/dataset/138/robot+execution+failures', 'https://archive.ics.uci.edu/dataset/577/codon+usage', 'https://archive.ics.uci.edu/dataset/128/japanese+vowels', 'https://archive.ics.uci.edu/dataset/262/turkiye+student+evaluation', 'https://archive.ics.uci.edu/dataset/230/planning+relax', 'https://archive.ics.uci.edu/dataset/239/legal+case+reports', 'https://archive.ics.uci.edu/dataset/450/sports+articles+for+objectivity+analysis', 'https://archive.ics.uci.edu/dataset/269/youtube+multiview+video+games+dataset', 'https://archive.ics.uci.edu/dataset/851/steel+industry+energy+consumption', 'https://archive.ics.uci.edu/dataset/837/product+classification+and+clustering', 'https://archive.ics.uci.edu/dataset/504/qsar+fish+toxicity', 'https://archive.ics.uci.edu/dataset/362/gas+sensors+for+home+activity+monitoring', 'https://archive.ics.uci.edu/dataset/554/cnnpred+cnn+based+stock+market+prediction+using+a+diverse+set+of+variables', 'https://archive.ics.uci.edu/dataset/605/wikipedia+math+essentials', 'https://archive.ics.uci.edu/dataset/472/caesarian+section+classification+dataset', 'https://archive.ics.uci.edu/dataset/171/madelon', 'https://archive.ics.uci.edu/dataset/382/cargo+2000+freight+tracking+and+tracing', 'https://archive.ics.uci.edu/dataset/421/aps+failure+at+scania+trucks', 'https://archive.ics.uci.edu/dataset/359/news+aggregator', 'https://archive.ics.uci.edu/dataset/315/geographical+original+of+music', 'https://archive.ics.uci.edu/dataset/328/greenhouse+gas+observing+network', 'https://archive.ics.uci.edu/dataset/523/exasens', 'https://archive.ics.uci.edu/dataset/743/maskreminder', 'https://archive.ics.uci.edu/dataset/750/similarity+prediction-1', 'https://archive.ics.uci.edu/dataset/422/wireless+indoor+localization', 'https://archive.ics.uci.edu/dataset/696/open+web+text+corpus', 'https://archive.ics.uci.edu/dataset/248/buzz+in+social+media', 'https://archive.ics.uci.edu/dataset/514/bias+correction+of+numerical+prediction+model+temperature+forecast', 'https://archive.ics.uci.edu/dataset/192/breast+tissue', 'https://archive.ics.uci.edu/dataset/754/dataset+based+on+uwb+for+clinical+establishments', 'https://archive.ics.uci.edu/dataset/289/dresses+attribute+sales', 'https://archive.ics.uci.edu/dataset/279/susy', 'https://archive.ics.uci.edu/dataset/438/health+news+in+twitter', 'https://archive.ics.uci.edu/dataset/205/opinrank+review+dataset', 'https://archive.ics.uci.edu/dataset/518/speaker+accent+recognition', 'https://archive.ics.uci.edu/dataset/245/daphnet+freezing+of+gait', 'https://archive.ics.uci.edu/dataset/104/university', 'https://archive.ics.uci.edu/dataset/167/arcene', 'https://archive.ics.uci.edu/dataset/354/gps+trajectories', 'https://archive.ics.uci.edu/dataset/494/wave+energy+converters', 'https://archive.ics.uci.edu/dataset/715/lt+fs+id+intrusion+detection+in+wsns', 'https://archive.ics.uci.edu/dataset/252/climate+model+simulation+crashes', 'https://archive.ics.uci.edu/dataset/528/amphibians', 'https://archive.ics.uci.edu/dataset/194/wall+following+robot+navigation+data', 'https://archive.ics.uci.edu/dataset/546/vehicle+routing+and+scheduling+problems', 'https://archive.ics.uci.edu/dataset/254/qsar+biodegradation', 'https://archive.ics.uci.edu/dataset/520/deepfakes+medical+image+tamper+detection', 'https://archive.ics.uci.edu/dataset/304/blogfeedback', 'https://archive.ics.uci.edu/dataset/232/restaurant+consumer+data', 'https://archive.ics.uci.edu/dataset/325/dataset+for+sensorless+drive+diagnosis', 'https://archive.ics.uci.edu/dataset/265/physicochemical+properties+of+protein+tertiary+structure', 'https://archive.ics.uci.edu/dataset/427/activity+recognition+with+healthy+older+people+using+a+batteryless+wearable+sensor', 'https://archive.ics.uci.edu/dataset/364/smartphone+dataset+for+human+activity+recognition+har+in+ambient+assisted+living+aal', 'https://archive.ics.uci.edu/dataset/524/swarm+behaviour', 'https://archive.ics.uci.edu/dataset/505/qsar+aquatic+toxicity', 'https://archive.ics.uci.edu/dataset/457/eeg+steady+state+visual+evoked+potential+signals', 'https://archive.ics.uci.edu/dataset/337/machine+learning+based+zzalpha+ltd+stock+recommendations+2012+2014', 'https://archive.ics.uci.edu/dataset/392/early+biomarkers+of+parkinson+s+disease+based+on+natural+connected+speech', 'https://archive.ics.uci.edu/dataset/858/rocket+league+skillshots', 'https://archive.ics.uci.edu/dataset/394/pm2+5+data+of+five+chinese+cities', 'https://archive.ics.uci.edu/dataset/49/icu', 'https://archive.ics.uci.edu/dataset/562/shill+bidding+dataset', 'https://archive.ics.uci.edu/dataset/196/localization+data+for+person+activity', 'https://archive.ics.uci.edu/dataset/424/csm+conventional+and+social+media+movies+dataset+2014+and+2015', 'https://archive.ics.uci.edu/dataset/64/mechanical+analysis', 'https://archive.ics.uci.edu/dataset/531/stock+keeping+units', 'https://archive.ics.uci.edu/dataset/406/anuran+calls+mfccs', 'https://archive.ics.uci.edu/dataset/246/3d+road+network+north+jutland+denmark', 'https://archive.ics.uci.edu/dataset/453/dishonest+internet+users+dataset', 'https://archive.ics.uci.edu/dataset/326/tv+news+channel+commercial+detection+dataset', 'https://archive.ics.uci.edu/dataset/877/mover:+medical+informatics+operating+room+vitals+and+events+repository', 'https://archive.ics.uci.edu/dataset/218/farm+ads', 'https://archive.ics.uci.edu/dataset/347/hepmass', 'https://archive.ics.uci.edu/dataset/692/2d+elastodynamic+metamaterials', 'https://archive.ics.uci.edu/dataset/604/gait+classification', 'https://archive.ics.uci.edu/dataset/596/wheat+kernels', 'https://archive.ics.uci.edu/dataset/204/pems+sf', 'https://archive.ics.uci.edu/dataset/846/accelerometer', 'https://archive.ics.uci.edu/dataset/181/libras+movement', 'https://archive.ics.uci.edu/dataset/169/dorothea', 'https://archive.ics.uci.edu/dataset/389/devanagari+handwritten+character+dataset', 'https://archive.ics.uci.edu/dataset/548/breath+metabolomics', 'https://archive.ics.uci.edu/dataset/99/student+loan+relational', 'https://archive.ics.uci.edu/dataset/281/qualitative+bankruptcy', 'https://archive.ics.uci.edu/dataset/366/activity+recognition+system+based+on+multisensor+data+fusion+arem', 'https://archive.ics.uci.edu/dataset/855/tuandromd+(tezpur+university+android+malware+dataset)', 'https://archive.ics.uci.edu/dataset/405/motion+capture+hand+postures', 'https://archive.ics.uci.edu/dataset/274/sml2010', 'https://archive.ics.uci.edu/dataset/479/somerville+happiness+survey', 'https://archive.ics.uci.edu/dataset/476/buddymove+data+set', 'https://archive.ics.uci.edu/dataset/428/immunotherapy+dataset', 'https://archive.ics.uci.edu/dataset/139/synthetic+control+chart+time+series', 'https://archive.ics.uci.edu/dataset/313/semg+for+basic+hand+movements', 'https://archive.ics.uci.edu/dataset/539/divorce+predictors+data+set', 'https://archive.ics.uci.edu/dataset/489/parkinson+dataset+with+replicated+acoustic+features', 'https://archive.ics.uci.edu/dataset/541/malware+static+and+dynamic+features+vxheaven+and+virus+total', 'https://archive.ics.uci.edu/dataset/317/grammatical+facial+expressions', 'https://archive.ics.uci.edu/dataset/420/autistic+spectrum+disorder+screening+data+for+adolescent', 'https://archive.ics.uci.edu/dataset/266/seismic+bumps', 'https://archive.ics.uci.edu/dataset/583/chemical+composition+of+ceramic+samples', 'https://archive.ics.uci.edu/dataset/423/hcc+survival', 'https://archive.ics.uci.edu/dataset/371/nips+conference+papers+1987+2015', 'https://archive.ics.uci.edu/dataset/293/twitter+data+set+for+arabic+sentiment+analysis', 'https://archive.ics.uci.edu/dataset/187/url+reputation', 'https://archive.ics.uci.edu/dataset/448/carbon+nanotubes', 'https://archive.ics.uci.edu/dataset/552/activity+recognition+using+wearable+physiological+measurements', 'https://archive.ics.uci.edu/dataset/272/skillcraft1+master+table+dataset', 'https://archive.ics.uci.edu/dataset/859/image+recognition+task+execution+times+in+mobile+edge+computing', 'https://archive.ics.uci.edu/dataset/278/emg+dataset+in+lower+limb', 'https://archive.ics.uci.edu/dataset/581/simulated+data+for+survival+modelling', 'https://archive.ics.uci.edu/dataset/77/othello+domain+theory', 'https://archive.ics.uci.edu/dataset/251/gas+sensor+arrays+in+open+sampling+settings', 'https://archive.ics.uci.edu/dataset/213/emg+physical+action+data+set', 'https://archive.ics.uci.edu/dataset/440/sgemm+gpu+kernel+performance', 'https://archive.ics.uci.edu/dataset/589/anticancer+peptides', 'https://archive.ics.uci.edu/dataset/598/multi+view+brain+networks', 'https://archive.ics.uci.edu/dataset/862/turkish+music+emotion', 'https://archive.ics.uci.edu/dataset/170/gisette', 'https://archive.ics.uci.edu/dataset/126/internet+usage+data', 'https://archive.ics.uci.edu/dataset/413/dynamic+features+of+virusshare+executables', 'https://archive.ics.uci.edu/dataset/869/shell+commands+used+by+participants+of+hands-on+cybersecurity+training', 'https://archive.ics.uci.edu/dataset/295/urban+land+cover', 'https://archive.ics.uci.edu/dataset/302/gesture+phase+segmentation', 'https://archive.ics.uci.edu/dataset/309/gas+sensor+array+exposed+to+turbulent+gas+mixtures', 'https://archive.ics.uci.edu/dataset/695/sundanese+twitter+dataset', 'https://archive.ics.uci.edu/dataset/233/cnae+9', 'https://archive.ics.uci.edu/dataset/361/twin+gas+sensor+arrays', 'https://archive.ics.uci.edu/dataset/455/simulated+falls+and+daily+living+activities+data+set', 'https://archive.ics.uci.edu/dataset/513/real+time+election+results+portugal+2019', 'https://archive.ics.uci.edu/dataset/417/character+font+images', 'https://archive.ics.uci.edu/dataset/915/differentiated+thyroid+cancer+recurrence', 'https://archive.ics.uci.edu/dataset/446/scadi', 'https://archive.ics.uci.edu/dataset/241/one+hundred+plant+species+leaves+data+set', 'https://archive.ics.uci.edu/dataset/540/3w+dataset', 'https://archive.ics.uci.edu/dataset/719/bengali+hate+speech+detection+dataset', 'https://archive.ics.uci.edu/dataset/729/period+changer-2', 'https://archive.ics.uci.edu/dataset/861/influenza+outbreak+event+prediction+via+twitter', 'https://archive.ics.uci.edu/dataset/142/volcanoes+on+venus+jartool+experiment', 'https://archive.ics.uci.edu/dataset/512/a+study+of+asian+religious+and+biblical+texts', 'https://archive.ics.uci.edu/dataset/273/weight+lifting+exercises+monitored+with+inertial+measurement+units', 'https://archive.ics.uci.edu/dataset/913/forty+soybean+cultivars+from+subsequent+harvests', 'https://archive.ics.uci.edu/dataset/175/character+trajectories', 'https://archive.ics.uci.edu/dataset/459/avila', 'https://archive.ics.uci.edu/dataset/333/forest+type+mapping', 'https://archive.ics.uci.edu/dataset/393/data+for+software+engineering+teamwork+assessment+in+education+setting', 'https://archive.ics.uci.edu/dataset/936/national+poll+on+healthy+aging+(npha)', 'https://archive.ics.uci.edu/dataset/259/reuters+rcv1+rcv2+multilingual+multiview+text+categorization+test+collection', 'https://archive.ics.uci.edu/dataset/378/drivface', 'https://archive.ics.uci.edu/dataset/318/noisyoffice', 'https://archive.ics.uci.edu/dataset/433/ultrasonic+flowmeter+diagnostics', 'https://archive.ics.uci.edu/dataset/334/wiki4he', 'https://archive.ics.uci.edu/dataset/6/artificial+characters', 'https://archive.ics.uci.edu/dataset/286/user+identification+from+walking+activity', 'https://archive.ics.uci.edu/dataset/525/crop+mapping+using+fused+optical+radar+data+set', 'https://archive.ics.uci.edu/dataset/282/lsvt+voice+rehabilitation', 'https://archive.ics.uci.edu/dataset/830/visegrad+group+companies+data-2', 'https://archive.ics.uci.edu/dataset/578/intelligent+media+accelerometer+and+gyroscope+im+accgyro+dataset', 'https://archive.ics.uci.edu/dataset/850/raisin', 'https://archive.ics.uci.edu/dataset/938/regensburg+pediatric+appendicitis', 'https://archive.ics.uci.edu/dataset/220/kegg+metabolic+relation+network+directed', 'https://archive.ics.uci.edu/dataset/925/infrared+thermography+temperature+dataset', 'https://archive.ics.uci.edu/dataset/435/ble+rssi+dataset+for+indoor+localization+and+navigation', 'https://archive.ics.uci.edu/dataset/339/taxi+service+trajectory+prediction+challenge+ecml+pkdd+2015', 'https://archive.ics.uci.edu/dataset/866/9mers+from+cullpdb', 'https://archive.ics.uci.edu/dataset/206/relative+location+of+ct+slices+on+axial+axis', 'https://archive.ics.uci.edu/dataset/429/cryotherapy+dataset', 'https://archive.ics.uci.edu/dataset/568/refractive+errors', 'https://archive.ics.uci.edu/dataset/575/guitar+chords+finger+positions', 'https://archive.ics.uci.edu/dataset/493/query+analytics+workloads+dataset', 'https://archive.ics.uci.edu/dataset/550/urbangb+urban+road+accidents+coordinates+labelled+by+the+urban+center', 'https://archive.ics.uci.edu/dataset/449/optical+interconnection+network', 'https://archive.ics.uci.edu/dataset/308/gas+sensor+array+under+flow+modulation', 'https://archive.ics.uci.edu/dataset/335/online+video+characteristics+and+transcoding+time+dataset', 'https://archive.ics.uci.edu/dataset/480/2+4+ghz+indoor+channel+measurements', 'https://archive.ics.uci.edu/dataset/747/181+early+modern+english+plays+transcriptions+of+early+editions+in+tei+encoding', 'https://archive.ics.uci.edu/dataset/285/wilt', 'https://archive.ics.uci.edu/dataset/436/container+crane+controller+data+set', 'https://archive.ics.uci.edu/dataset/305/realdisp+activity+recognition+dataset', 'https://archive.ics.uci.edu/dataset/400/crowdsourced+mapping', 'https://archive.ics.uci.edu/dataset/195/spoken+arabic+digit', 'https://archive.ics.uci.edu/dataset/323/microblogpcu', 'https://archive.ics.uci.edu/dataset/199/miniboone+particle+identification', 'https://archive.ics.uci.edu/dataset/208/online+handwritten+assamese+characters+dataset', 'https://archive.ics.uci.edu/dataset/166/hill+valley', 'https://archive.ics.uci.edu/dataset/311/sentence+classification', 'https://archive.ics.uci.edu/dataset/398/eco+hotel', 'https://archive.ics.uci.edu/dataset/255/blogger', 'https://archive.ics.uci.edu/dataset/55/kinship', 'https://archive.ics.uci.edu/dataset/299/stoneflakes', 'https://archive.ics.uci.edu/dataset/385/kasandr', 'https://archive.ics.uci.edu/dataset/549/horton+general+hospital', 'https://archive.ics.uci.edu/dataset/93/low+resolution+spectrometer', 'https://archive.ics.uci.edu/dataset/415/dsrc+vehicle+communications', 'https://archive.ics.uci.edu/dataset/456/multimodal+damage+identification+for+humanitarian+computing', 'https://archive.ics.uci.edu/dataset/348/indoor+user+movement+prediction+from+rss+data', 'https://archive.ics.uci.edu/dataset/188/p53+mutants', 'https://archive.ics.uci.edu/dataset/600/wisesight+sentiment+corpus', 'https://archive.ics.uci.edu/dataset/221/kegg+metabolic+reaction+network+undirected', 'https://archive.ics.uci.edu/dataset/452/gnfuv+unmanned+surface+vehicles+sensor+data', 'https://archive.ics.uci.edu/dataset/527/facebook+large+page+page+network', 'https://archive.ics.uci.edu/dataset/338/folio', 'https://archive.ics.uci.edu/dataset/510/qsar+bioconcentration+classes+dataset', 'https://archive.ics.uci.edu/dataset/521/selfback', 'https://archive.ics.uci.edu/dataset/584/labeled+text+forum+threads+dataset', 'https://archive.ics.uci.edu/dataset/210/record+linkage+comparison+patterns', 'https://archive.ics.uci.edu/dataset/168/dexter', 'https://archive.ics.uci.edu/dataset/223/youtube+comedy+slam+preference+data', 'https://archive.ics.uci.edu/dataset/748/sirtuin6+small+molecules-1', 'https://archive.ics.uci.edu/dataset/217/reuter+50+50', 'https://archive.ics.uci.edu/dataset/500/mex', 'https://archive.ics.uci.edu/dataset/157/dodgers+loop+sensor', 'https://archive.ics.uci.edu/dataset/561/person+classification+gait+data', 'https://archive.ics.uci.edu/dataset/441/repeat+consumption+matrices', 'https://archive.ics.uci.edu/dataset/606/wikipedia+math+essentials-1', 'https://archive.ics.uci.edu/dataset/595/lastfm+asia+social+network', 'https://archive.ics.uci.edu/dataset/377/geo+magnetic+field+and+wlan+dataset+for+indoor+localisation+from+wristband+and+smartphone', 'https://archive.ics.uci.edu/dataset/466/gnfuv+unmanned+surface+vehicles+sensor+data+set+2', 'https://archive.ics.uci.edu/dataset/97/sponge', 'https://archive.ics.uci.edu/dataset/517/shoulder+implant+x+ray+manufacturer+classification', 'https://archive.ics.uci.edu/dataset/358/improved+spiral+test+using+digitized+graphics+tablet+for+monitoring+parkinson+s+disease', 'https://archive.ics.uci.edu/dataset/853/non+verbal+tourists+data', 'https://archive.ics.uci.edu/dataset/534/wave+energy+converters', 'https://archive.ics.uci.edu/dataset/343/ujiindoorloc+mag', 'https://archive.ics.uci.edu/dataset/847/pedal+me+bicycle+deliveries', 'https://archive.ics.uci.edu/dataset/458/roman+urdu+data+set', 'https://archive.ics.uci.edu/dataset/402/hybrid+indoor+positioning+dataset+from+wifi+rssi+bluetooth+and+magnetometer', 'https://archive.ics.uci.edu/dataset/253/micromass', 'https://archive.ics.uci.edu/dataset/566/exasens', 'https://archive.ics.uci.edu/dataset/150/connectionist+bench+nettalk+corpus', 'https://archive.ics.uci.edu/dataset/408/gastrointestinal+lesions+in+regular+colonoscopy', 'https://archive.ics.uci.edu/dataset/543/user+profiling+and+abusive+language+detection+dataset', 'https://archive.ics.uci.edu/dataset/250/wearable+computing+classification+of+body+postures+and+movements+puc+rio', 'https://archive.ics.uci.edu/dataset/463/physical+unclonable+functions', 'https://archive.ics.uci.edu/dataset/844/average+localization+error+(ale)+in+sensor+node+localization+process+in+wsns', 'https://archive.ics.uci.edu/dataset/283/dataset+for+adl+recognition+with+wrist+worn+accelerometer', 'https://archive.ics.uci.edu/dataset/298/bach+choral+harmony', 'https://archive.ics.uci.edu/dataset/330/hiv+1+protease+cleavage', 'https://archive.ics.uci.edu/dataset/414/ida2016challenge', 'https://archive.ics.uci.edu/dataset/570/clinc150', 'https://archive.ics.uci.edu/dataset/271/activities+of+daily+living+adls+recognition+using+binary+sensors', 'https://archive.ics.uci.edu/dataset/920/jute+pest+dataset', 'https://archive.ics.uci.edu/dataset/353/sift10m', 'https://archive.ics.uci.edu/dataset/508/qsar+oral+toxicity', 'https://archive.ics.uci.edu/dataset/276/predict+keywords+activities+in+a+online+social+media', 'https://archive.ics.uci.edu/dataset/86/quadruped+mammals', 'https://archive.ics.uci.edu/dataset/160/uji+pen+characters', 'https://archive.ics.uci.edu/dataset/65/meta+data', 'https://archive.ics.uci.edu/dataset/852/gender+gap+in+spanish+wp', 'https://archive.ics.uci.edu/dataset/384/quality+assessment+of+digital+colposcopies', 'https://archive.ics.uci.edu/dataset/585/stock+keeping+units', 'https://archive.ics.uci.edu/dataset/190/demospongiae', 'https://archive.ics.uci.edu/dataset/156/calit2+building+people+counts', 'https://archive.ics.uci.edu/dataset/511/qsar+fish+bioconcentration+factor+bcf', 'https://archive.ics.uci.edu/dataset/263/ser+knowledge+modeling+data+students+knowledge+levels+on+dc+electrical+machines', 'https://archive.ics.uci.edu/dataset/351/mesothelioma+s+disease+data+set', 'https://archive.ics.uci.edu/dataset/439/chipseq', 'https://archive.ics.uci.edu/dataset/556/simulated+data+set+of+iraqi+tourism+places', 'https://archive.ics.uci.edu/dataset/307/aaai+2014+accepted+papers', 'https://archive.ics.uci.edu/dataset/214/vicon+physical+action+data+set', 'https://archive.ics.uci.edu/dataset/391/mocap+hand+postures', 'https://archive.ics.uci.edu/dataset/355/detect+malacious+executable+antivirus', 'https://archive.ics.uci.edu/dataset/588/github+musae', 'https://archive.ics.uci.edu/dataset/411/extention+of+z+alizadeh+sani+dataset', 'https://archive.ics.uci.edu/dataset/287/activity+recognition+from+single+chest+mounted+accelerometer', 'https://archive.ics.uci.edu/dataset/530/turkish+spam+v01', 'https://archive.ics.uci.edu/dataset/227/nomao', 'https://archive.ics.uci.edu/dataset/813/tunadromd', 'https://archive.ics.uci.edu/dataset/136/pseudo+periodic+synthetic+time+series', 'https://archive.ics.uci.edu/dataset/454/victorian+era+authorship+attribution', 'https://archive.ics.uci.edu/dataset/306/newspaper+and+magazine+images+segmentation+dataset', 'https://archive.ics.uci.edu/dataset/854/roman+urdu+sentiment+analysis+dataset+(rusad)', 'https://archive.ics.uci.edu/dataset/260/nysk', 'https://archive.ics.uci.edu/dataset/118/coil+1999+competition+data', 'https://archive.ics.uci.edu/dataset/860/rejafada', 'https://archive.ics.uci.edu/dataset/163/reuters+transcribed+subset', 'https://archive.ics.uci.edu/dataset/412/z+alizadeh+sani', 'https://archive.ics.uci.edu/dataset/314/aaai+2013+accepted+papers', 'https://archive.ics.uci.edu/dataset/249/first+order+theorem+proving', 'https://archive.ics.uci.edu/dataset/404/burst+header+packet+bhp+flooding+attack+on+optical+burst+switching+obs+network', 'https://archive.ics.uci.edu/dataset/535/youtube+cookery+channels+viewers+comments+in+hinglish', 'https://archive.ics.uci.edu/dataset/576/russian+corpus+of+biographical+texts', 'https://archive.ics.uci.edu/dataset/473/baum+1', 'https://archive.ics.uci.edu/dataset/375/miskolc+iis+hybrid+ips', 'https://archive.ics.uci.edu/dataset/418/deliciousmil+a+data+set+for+multi+label+multi+instance+learning+with+instance+labels', 'https://archive.ics.uci.edu/dataset/131/m+tuberculosis+genes', 'https://archive.ics.uci.edu/dataset/324/firm+teacher+clave+direction+classification', 'https://archive.ics.uci.edu/dataset/460/pandor', 'https://archive.ics.uci.edu/dataset/430/oct+data+color+fundus+images+of+left+right+eyes', 'https://archive.ics.uci.edu/dataset/209/pubchem+bioassay+data', 'https://archive.ics.uci.edu/dataset/434/icmla+2014+accepted+papers+data+set', 'https://archive.ics.uci.edu/dataset/509/qsar+androgen+receptor', 'https://archive.ics.uci.edu/dataset/431/discrete+tone+image+dataset', 'https://archive.ics.uci.edu/dataset/557/nasarian+cad+dataset', 'https://archive.ics.uci.edu/dataset/586/ble+rssi+dataset+for+indoor+localization', 'https://archive.ics.uci.edu/dataset/237/northix', 'https://archive.ics.uci.edu/dataset/173/abscisic+acid+signaling+network', 'https://archive.ics.uci.edu/dataset/11/badges', 'https://archive.ics.uci.edu/dataset/238/qtyt40i10d100k', 'https://archive.ics.uci.edu/dataset/599/lastfm+asia+social+network', 'https://archive.ics.uci.edu/dataset/41/function+finding', 'https://archive.ics.uci.edu/dataset/219/dbworld+e+mails', 'https://archive.ics.uci.edu/dataset/416/mturk+user+perceived+clusters+over+images', 'https://archive.ics.uci.edu/dataset/369/ubiqlog+smartphone+lifelogging', 'https://archive.ics.uci.edu/dataset/36/document+understanding', 'https://archive.ics.uci.edu/dataset/197/autouniv', 'https://archive.ics.uci.edu/dataset/399/meu+mobile+ksd', 'https://archive.ics.uci.edu/dataset/376/kdc+4007+dataset+collection', 'https://archive.ics.uci.edu/dataset/177/uji+pen+characters+version+2', 'https://archive.ics.uci.edu/dataset/85/qualitative+structure+activity+relationships', 'https://archive.ics.uci.edu/dataset/135/pioneer+1+mobile+robot+data', 'https://archive.ics.uci.edu/dataset/499/opinion+corpus+for+lebanese+arabic+reviews+oclar', 'https://archive.ics.uci.edu/dataset/133/msnbc+com+anonymous+web+data', 'https://archive.ics.uci.edu/dataset/574/iiwa14+r820+gazebo+dataset+10trajectories', 'https://archive.ics.uci.edu/dataset/845/tamilsentimix', 'https://archive.ics.uci.edu/dataset/191/opinosis+opinion+frasl+review', 'https://archive.ics.uci.edu/dataset/407/ttc+3600+benchmark+dataset+for+turkish+text+categorization', 'https://archive.ics.uci.edu/dataset/61/logic+theorist', 'https://archive.ics.uci.edu/dataset/911/recipe+reviews+and+user+feedback+dataset', 'https://archive.ics.uci.edu/dataset/403/chestnut+larvic', 'https://archive.ics.uci.edu/dataset/425/university+of+tehran+question+dataset+2016+utqd+2016', 'https://archive.ics.uci.edu/dataset/268/uspto+algorithm+challenge+run+by+nasa+harvard+tournament+lab+and+topcoder+problem+pat', 'https://archive.ics.uci.edu/dataset/84/prodigy', 'https://archive.ics.uci.edu/dataset/474/baum+2', 'https://archive.ics.uci.edu/dataset/71/moral+reasoner', 'https://archive.ics.uci.edu/dataset/112/undocumented', 'https://archive.ics.uci.edu/dataset/469/pmu+ud', 'https://archive.ics.uci.edu/dataset/134/nsf+research+award+abstracts+1990+2003', 'https://archive.ics.uci.edu/dataset/35/dgp2+the+second+data+generation+program', 'https://archive.ics.uci.edu/dataset/37/ebl+domain+theories', 'https://archive.ics.uci.edu/dataset/538/sattriya+dance+single+hand+gestures+dataset']\n"
     ]
    }
   ],
   "source": []
  },
  {
   "cell_type": "code",
   "execution_count": 200,
   "id": "14af49d8",
   "metadata": {},
   "outputs": [],
   "source": [
    "Dataset = []\n",
    "D_type = []\n",
    "Task = []\n",
    "Attribute_type = []\n",
    "No_Intances = []\n",
    "No_Attributes = []\n",
    "Year  = []\n",
    "\n",
    "for i in url:\n",
    "    driver.get(i)\n",
    "    \n",
    "    dataset_tag =driver.find_elements(By.XPATH,'/html/body/div[1]/div[1]/div[1]/main/div/div[1]/div[1]/div[1]/div[2]/div/h1')\n",
    "    for i in dataset_tag:\n",
    "        try:\n",
    "            Dataset.append(i.text)\n",
    "        except NoSuchElementException:\n",
    "            Dataset.append('-')\n",
    "            \n",
    "    data_type_tag  = driver.find_elements(By.XPATH,'/html/body/div/div[1]/div[1]/main/div/div[1]/div[1]/div[2]/div[2]/div[1]/p')\n",
    "    for i in data_type_tag:\n",
    "        try:\n",
    "            D_type.append(i.text)\n",
    "        except NoSuchElementexception:\n",
    "            D_type.append('-')\n",
    "\n",
    "    task_tag  = driver.find_elements(By.XPATH,'/html/body/div/div[1]/div[1]/main/div/div[1]/div[1]/div[2]/div[2]/div[3]/p')\n",
    "    for i in task_tag:\n",
    "        try:\n",
    "            Task.append(i.text)\n",
    "        except NoSuchElementException:\n",
    "            Task.append('-')\n",
    "            \n",
    "    attr_type_tag  = driver.find_elements(By.XPATH,'/html/body/div[1]/div[1]/div[1]/main/div/div[1]/div[1]/div[2]/div[2]/div[4]/p')\n",
    "    for i in attr_type_tag:\n",
    "        try:\n",
    "            Attribute_type.append(i.text)\n",
    "        except NoSuchElementException:\n",
    "            Attribute_type.append('null')\n",
    "    \n",
    "    instances_tag   = driver.find_elements(By.XPATH,'/html/body/div[1]/div[1]/div[1]/main/div/div[1]/div[1]/div[2]/div[2]/div[5]/p')\n",
    "    for i in instances_tag:\n",
    "        try:\n",
    "            No_Intances.append(i.text)\n",
    "        except:\n",
    "            No_Intances.append('null')\n",
    "            \n",
    "    no_attr_tag = driver.find_elements(By.XPATH,'/html/body/div[1]/div[1]/div[1]/main/div/div[1]/div[1]/div[2]/div[2]/div[6]/p')\n",
    "    for i in no_attr_tag:\n",
    "        try:\n",
    "            No_Attributes.append(i.text)\n",
    "        except:\n",
    "            No_Attributes.append('null')\n",
    "            \n",
    "    year_tag  = driver.find_elements(By.XPATH,'/html/body/div[1]/div[1]/div[1]/main/div/div[1]/div[1]/div[1]/div[2]/h2')\n",
    "    for i in year_tag:\n",
    "        try:\n",
    "            Year.append(i.text)\n",
    "        except:\n",
    "            Year.append('null')"
   ]
  },
  {
   "cell_type": "code",
   "execution_count": 201,
   "id": "ce612d6a",
   "metadata": {},
   "outputs": [
    {
     "name": "stdout",
     "output_type": "stream",
     "text": [
      "670 670 670 670 670 670 640\n"
     ]
    }
   ],
   "source": [
    "print(len(Dataset),len(D_type),len(Task),len(Attribute_type),len(No_Intances),len(No_Attributes),len(Year))\n"
   ]
  },
  {
   "cell_type": "code",
   "execution_count": null,
   "id": "bc8c19d5",
   "metadata": {},
   "outputs": [],
   "source": []
  }
 ],
 "metadata": {
  "kernelspec": {
   "display_name": "Python 3 (ipykernel)",
   "language": "python",
   "name": "python3"
  },
  "language_info": {
   "codemirror_mode": {
    "name": "ipython",
    "version": 3
   },
   "file_extension": ".py",
   "mimetype": "text/x-python",
   "name": "python",
   "nbconvert_exporter": "python",
   "pygments_lexer": "ipython3",
   "version": "3.11.5"
  }
 },
 "nbformat": 4,
 "nbformat_minor": 5
}
